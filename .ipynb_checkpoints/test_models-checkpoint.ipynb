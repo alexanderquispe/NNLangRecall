{
 "cells": [
  {
   "cell_type": "code",
   "execution_count": 1,
   "id": "2a1c7718-f98c-46c5-abc7-78a7019a7a51",
   "metadata": {
    "tags": []
   },
   "outputs": [],
   "source": [
    "from collections import defaultdict, namedtuple\n",
    "import numpy as np\n",
    "import pandas as pd\n",
    "import math"
   ]
  },
  {
   "cell_type": "code",
   "execution_count": 2,
   "id": "8db1555e-63ed-4944-8c01-19780f2769d5",
   "metadata": {
    "tags": []
   },
   "outputs": [],
   "source": [
    "import duolingo_replica as dr\n",
    "import duolingo as d"
   ]
  },
  {
   "cell_type": "markdown",
   "id": "8a6062f4-ffc7-4176-83da-9ec1f2c76072",
   "metadata": {},
   "source": [
    "## Modelo 1: Réplica"
   ]
  },
  {
   "cell_type": "markdown",
   "id": "d38ebd39-2ef0-47cd-a195-a8f3f202414a",
   "metadata": {},
   "source": [
    "Cargamos los datos y seleccionamos un subset de 5000 observaciones para testear el modelo."
   ]
  },
  {
   "cell_type": "code",
   "execution_count": 7,
   "id": "8ad14c10-3ce6-45c2-b92b-b9925d238573",
   "metadata": {
    "tags": []
   },
   "outputs": [],
   "source": [
    "data   = pd.read_csv('C:/Users/Alexander/Dropbox/halflife_regression_rl/learning_traces.13m_en_10.csv' )\n",
    "subset = data.sample( n = 5000, random_state = 2023 )"
   ]
  },
  {
   "cell_type": "markdown",
   "id": "fb77762d-389f-4d7c-85eb-6dbcc0cd537a",
   "metadata": {},
   "source": [
    "Realizamos el split train-test, y además, obtenemos la lista de variables predictoras. Las variables predictoras incluyen: 'right', 'wrong', 'bias' y dicotómicas de lexemas."
   ]
  },
  {
   "cell_type": "code",
   "execution_count": 8,
   "id": "ba09c9f4-734c-4cc0-8934-533b66604bad",
   "metadata": {
    "tags": []
   },
   "outputs": [],
   "source": [
    "trainset, testset, feature_vars = dr.read_data( subset, omit_lexemes = False )"
   ]
  },
  {
   "cell_type": "markdown",
   "id": "71b198f6-f209-489d-ac01-2337979ef613",
   "metadata": {},
   "source": [
    "Definimos y entrenamos el modelo"
   ]
  },
  {
   "cell_type": "code",
   "execution_count": 9,
   "id": "bfe15f52-838e-43df-802b-5f540af0482f",
   "metadata": {
    "tags": []
   },
   "outputs": [],
   "source": [
    "model_1 = dr.HLR_model( feature_columns = feature_vars )"
   ]
  },
  {
   "cell_type": "code",
   "execution_count": 8,
   "id": "0a2ae460-0c89-4039-a02b-95a1ca3a2eea",
   "metadata": {
    "tags": []
   },
   "outputs": [
    {
     "name": "stdout",
     "output_type": "stream",
     "text": [
      "CPU times: total: 25.5 s\n",
      "Wall time: 25.6 s\n"
     ]
    }
   ],
   "source": [
    "%%time\n",
    "\n",
    "model_1.train( trainset )"
   ]
  },
  {
   "cell_type": "markdown",
   "id": "d9c15bc1-6a96-414a-9368-11e2eac20950",
   "metadata": {},
   "source": [
    "Evaluamos el modelo con el conjunto de prueba y obtenemos resultados"
   ]
  },
  {
   "cell_type": "code",
   "execution_count": 9,
   "id": "66eeb02c-2c67-4a3f-bed3-256a25e4f5a2",
   "metadata": {
    "tags": []
   },
   "outputs": [
    {
     "name": "stdout",
     "output_type": "stream",
     "text": [
      "-----------------------------\n",
      "            Results          \n",
      "-----------------------------\n",
      "Total Loss : 176867.716\n",
      "p          : 197.076\n",
      "h          : 176670.639\n",
      "l2         : 0.001\n",
      "mae (p)    : 0.446\n",
      "cor (p)    : 0.093\n",
      "mae (h)    : 141.921\n",
      "cor (h)    : -0.103\n",
      "-----------------------------\n"
     ]
    }
   ],
   "source": [
    "model_1.test_model( testset )"
   ]
  },
  {
   "cell_type": "markdown",
   "id": "939f9cef-dbf0-4160-88a8-5f86276aa8c8",
   "metadata": {},
   "source": [
    "Exploramos los thetas (weights) por columna"
   ]
  },
  {
   "cell_type": "code",
   "execution_count": 10,
   "id": "7edb1805-e58a-45d9-93ba-453452bd70bb",
   "metadata": {
    "tags": []
   },
   "outputs": [],
   "source": [
    "model_1.dump_theta( 'replica_w.txt' )"
   ]
  },
  {
   "cell_type": "markdown",
   "id": "deb6aaf7-e73a-4fbe-9d6b-8ee35b3252b0",
   "metadata": {},
   "source": [
    "## Modelo 2: Original"
   ]
  },
  {
   "cell_type": "markdown",
   "id": "d396dcfc-53aa-47ab-8a4e-01cb5db6fb32",
   "metadata": {},
   "source": [
    "Cargamos los datos y seleccionamos un subset de 5000 observaciones para testear el modelo"
   ]
  },
  {
   "cell_type": "code",
   "execution_count": 11,
   "id": "a5478a3f-5221-48f0-9f29-8b93ab426274",
   "metadata": {
    "tags": []
   },
   "outputs": [],
   "source": [
    "data   = pd.read_csv( 'learning_traces.13m_en_10.csv' )\n",
    "subset = data.sample( n = 5000, random_state = 2023 )"
   ]
  },
  {
   "cell_type": "markdown",
   "id": "27cd3d4b-30a1-42eb-9b39-4838e31d56f1",
   "metadata": {},
   "source": [
    "Realizamos el split train-test"
   ]
  },
  {
   "cell_type": "code",
   "execution_count": 12,
   "id": "9d441b9b-3566-4618-8030-4648a2ae7045",
   "metadata": {
    "tags": []
   },
   "outputs": [
    {
     "name": "stderr",
     "output_type": "stream",
     "text": [
      "done!\n"
     ]
    }
   ],
   "source": [
    "train, test = d.read_data( subset, method = 'hlr' )"
   ]
  },
  {
   "cell_type": "markdown",
   "id": "9930b9b7-8023-4e6e-8ace-bac737c1a1b0",
   "metadata": {},
   "source": [
    "Definimos y entrenamos el modelo"
   ]
  },
  {
   "cell_type": "code",
   "execution_count": 13,
   "id": "b8b5da65-674c-4360-9730-399759ea7d4b",
   "metadata": {
    "tags": []
   },
   "outputs": [],
   "source": [
    "model_2 = d.SpacedRepetitionModel( method = 'hlr' )"
   ]
  },
  {
   "cell_type": "code",
   "execution_count": 14,
   "id": "04169456-3ae9-40f3-876b-3f948811a557",
   "metadata": {
    "tags": []
   },
   "outputs": [
    {
     "name": "stdout",
     "output_type": "stream",
     "text": [
      "CPU times: total: 62.5 ms\n",
      "Wall time: 57.9 ms\n"
     ]
    }
   ],
   "source": [
    "%%time\n",
    "\n",
    "model_2.train( train )"
   ]
  },
  {
   "cell_type": "markdown",
   "id": "afe1aa1a-29b2-44ef-83ef-c0a43f02b4fe",
   "metadata": {
    "tags": []
   },
   "source": [
    "Evaluamos el modelo con el conjunto de prueba y obtenemos resultados. El primer valor de la derecha corresponde a la métrica \"Total Loss\". Las demás métricas sí se encuentran nombradas."
   ]
  },
  {
   "cell_type": "code",
   "execution_count": 15,
   "id": "18a8ea38-ff92-44a8-ba8f-922946a25fa3",
   "metadata": {
    "tags": []
   },
   "outputs": [
    {
     "name": "stderr",
     "output_type": "stream",
     "text": [
      "176667.669 (p=188.672, h=176478.974, l2=0.023)\tmae(p)=0.436\tcor(p)=0.084\tmae(h)=141.842\tcor(h)=0.142\n"
     ]
    }
   ],
   "source": [
    "model_2.eval( test )"
   ]
  },
  {
   "cell_type": "markdown",
   "id": "80646c1f-a89a-4d19-8d66-bd650ba4f5c1",
   "metadata": {},
   "source": [
    "Exploramos los thetas (weights) por columna"
   ]
  },
  {
   "cell_type": "code",
   "execution_count": 17,
   "id": "f2a23714-fac4-43cc-b5d8-4136d64dcfc5",
   "metadata": {
    "tags": []
   },
   "outputs": [],
   "source": [
    "model_2.dump_weights( 'original_w.txt' )"
   ]
  }
 ],
 "metadata": {
  "kernelspec": {
   "display_name": "Python 3 (ipykernel)",
   "language": "python",
   "name": "python3"
  },
  "language_info": {
   "codemirror_mode": {
    "name": "ipython",
    "version": 3
   },
   "file_extension": ".py",
   "mimetype": "text/x-python",
   "name": "python",
   "nbconvert_exporter": "python",
   "pygments_lexer": "ipython3",
   "version": "3.8.12"
  }
 },
 "nbformat": 4,
 "nbformat_minor": 5
}
