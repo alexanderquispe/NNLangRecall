{
 "cells": [
  {
   "cell_type": "code",
   "execution_count": 1,
   "id": "2a1c7718-f98c-46c5-abc7-78a7019a7a51",
   "metadata": {
    "tags": []
   },
   "outputs": [],
   "source": [
    "from collections import defaultdict, namedtuple\n",
    "import numpy as np\n",
    "import pandas as pd\n",
    "import math\n",
    "import random"
   ]
  },
  {
   "cell_type": "code",
   "execution_count": 2,
   "id": "8db1555e-63ed-4944-8c01-19780f2769d5",
   "metadata": {
    "tags": []
   },
   "outputs": [],
   "source": [
    "import duolingo_replica as dr\n",
    "import duolingo as d"
   ]
  },
  {
   "cell_type": "markdown",
   "id": "a8c0d02e-899c-4a68-add3-e95fe6fd5ceb",
   "metadata": {},
   "source": [
    "We load the data and select a subset of 5000 observations to test the models."
   ]
  },
  {
   "cell_type": "code",
   "execution_count": 3,
   "id": "af61c42e-90c2-4fc6-8177-6265c5e5e20d",
   "metadata": {
    "tags": []
   },
   "outputs": [],
   "source": [
    "data   = pd.read_csv('learning_traces.13m_en_10.csv' )\n",
    "subset = data.sample( n = 5000, random_state = 5 )"
   ]
  },
  {
   "cell_type": "markdown",
   "id": "6566fc0e-c83b-4883-9d35-6d75c9b25e2c",
   "metadata": {},
   "source": [
    "# 1. LOGIT"
   ]
  },
  {
   "cell_type": "markdown",
   "id": "d8efdb2c-3b58-4e09-b06a-15d8ec8da9d6",
   "metadata": {},
   "source": [
    "## 1.1. Replication"
   ]
  },
  {
   "cell_type": "markdown",
   "id": "8f231e91-dac0-4d03-ba32-a854228303eb",
   "metadata": {},
   "source": [
    "We perform the train-test split and, in addition, obtain the list of predictor variables. The predictor variables include: 'right,' 'wrong,' 'bias,', 'time' and dummy variables for lexemes."
   ]
  },
  {
   "cell_type": "code",
   "execution_count": 4,
   "id": "92dad457-7e7d-4f94-94c7-366694435a68",
   "metadata": {
    "tags": []
   },
   "outputs": [],
   "source": [
    "trainset, testset, feature_vars = dr.read_data( subset, method = 'lr', omit_lexemes = False )"
   ]
  },
  {
   "cell_type": "markdown",
   "id": "f153c9ad-29e5-4c3d-bb32-e4ecc1bcf663",
   "metadata": {
    "tags": []
   },
   "source": [
    "We define and fit a Logistic Regression Model for the replication code"
   ]
  },
  {
   "cell_type": "code",
   "execution_count": 5,
   "id": "ddc966a4-157f-48ff-8aab-de89b81944f6",
   "metadata": {
    "tags": []
   },
   "outputs": [
    {
     "name": "stdout",
     "output_type": "stream",
     "text": [
      "CPU times: total: 38.2 s\n",
      "Wall time: 39.1 s\n"
     ]
    }
   ],
   "source": [
    "%%time\n",
    "\n",
    "model_1 = dr.logit_model( feature_columns = feature_vars )\n",
    "model_1.train( trainset )"
   ]
  },
  {
   "cell_type": "markdown",
   "id": "2b41f8d8-6635-453e-b7e3-d8caa827d930",
   "metadata": {},
   "source": [
    "We evaluate the model with the test set and obtain results"
   ]
  },
  {
   "cell_type": "code",
   "execution_count": 6,
   "id": "e694b6fb-0fad-48a5-8498-c7aa6c2fbe90",
   "metadata": {
    "tags": []
   },
   "outputs": [
    {
     "name": "stdout",
     "output_type": "stream",
     "text": [
      "-----------------------------\n",
      "            Results          \n",
      "-----------------------------\n",
      "Total Loss : 188763.186\n",
      "p          : 65.696\n",
      "h          : 188697.488\n",
      "l2         : 0.002\n",
      "mae (p)    : 0.332\n",
      "cor (p)    : -0.022\n",
      "mae (h)    : 149.518\n",
      "cor (h)    : -0.024\n",
      "-----------------------------\n"
     ]
    }
   ],
   "source": [
    "model_1.test_model( testset, h_seed = 5 )"
   ]
  },
  {
   "cell_type": "markdown",
   "id": "00488f9b-1f63-4ae9-9411-6488f488175e",
   "metadata": {},
   "source": [
    "We export theta values for the Logit replication model"
   ]
  },
  {
   "cell_type": "code",
   "execution_count": 9,
   "id": "131996ca-2143-42b4-b53a-0b4ea4f5b66c",
   "metadata": {
    "tags": []
   },
   "outputs": [],
   "source": [
    "model_1.dump_theta( 'logit_replication_thetas.txt' )"
   ]
  },
  {
   "cell_type": "markdown",
   "id": "d4ce5cc9-3555-4e21-a0bd-bfc9ee453078",
   "metadata": {},
   "source": [
    "## 1.2. Original code"
   ]
  },
  {
   "cell_type": "markdown",
   "id": "49736a75-4cff-44e1-bdce-368336232d60",
   "metadata": {},
   "source": [
    "We perform the train-test split and, in addition, obtain the list of predictor variables. The predictor variables include: 'right,' 'wrong,' 'bias,' and dummy variables for lexemes."
   ]
  },
  {
   "cell_type": "code",
   "execution_count": 10,
   "id": "625bac9c-66b2-4782-a529-7c61a198f453",
   "metadata": {
    "tags": []
   },
   "outputs": [
    {
     "name": "stderr",
     "output_type": "stream",
     "text": [
      "done!\n"
     ]
    }
   ],
   "source": [
    "trainset2, testset2 = d.read_data( subset, method = 'lr' )"
   ]
  },
  {
   "cell_type": "markdown",
   "id": "33da8e00-0547-48f2-821c-0da5a80bf443",
   "metadata": {},
   "source": [
    "We define and fit a Logistic Regression Model for the original code"
   ]
  },
  {
   "cell_type": "code",
   "execution_count": 11,
   "id": "7f7c2b36-375e-406b-9432-a6a5d0713e3e",
   "metadata": {
    "tags": []
   },
   "outputs": [
    {
     "name": "stdout",
     "output_type": "stream",
     "text": [
      "CPU times: total: 46.9 ms\n",
      "Wall time: 58.2 ms\n"
     ]
    }
   ],
   "source": [
    "%%time\n",
    "\n",
    "model_2 = d.SpacedRepetitionModel( method = 'lr' )\n",
    "model_2.train( trainset2 )"
   ]
  },
  {
   "cell_type": "markdown",
   "id": "1d4ddf7e-9dbb-4777-9d5b-0b3419c1c78b",
   "metadata": {},
   "source": [
    "We evaluate the model with the test set and obtain results. The first value on the right corresponds to the metric 'Total Loss.' The other metrics are named accordingly. The metrics are almost exactly the same as in the replication code."
   ]
  },
  {
   "cell_type": "code",
   "execution_count": 12,
   "id": "219ccc38-c421-47ec-9b82-983efb029307",
   "metadata": {
    "tags": []
   },
   "outputs": [
    {
     "name": "stderr",
     "output_type": "stream",
     "text": [
      "188763.117 (p=65.626, h=188697.488, l2=0.002)\tmae(p)=0.332\tcor(p)=-0.022\tmae(h)=149.518\tcor(h)=-0.024\n"
     ]
    }
   ],
   "source": [
    "model_2.eval( testset2, h_seed = 5 )"
   ]
  },
  {
   "cell_type": "markdown",
   "id": "7051a7d4-49a6-4657-8061-ba0e12ca8dc7",
   "metadata": {},
   "source": [
    "We export theta values for the Logit original model. Thetas are almost exactly the same as in the replication code."
   ]
  },
  {
   "cell_type": "code",
   "execution_count": 13,
   "id": "64995564-049a-41a1-aac8-877b4ec652f8",
   "metadata": {
    "tags": []
   },
   "outputs": [],
   "source": [
    "model_2.dump_weights( 'logit_original_thetas.txt' )"
   ]
  },
  {
   "cell_type": "markdown",
   "id": "60a4d608-8bdf-4360-b316-6724ea81e986",
   "metadata": {},
   "source": [
    "# 2. HLR Model"
   ]
  },
  {
   "cell_type": "markdown",
   "id": "c6085c7e-6ee6-460b-a8f1-5c329134ff70",
   "metadata": {},
   "source": [
    "## 2.1. Replication"
   ]
  },
  {
   "cell_type": "markdown",
   "id": "8cf86e57-8db8-4b8b-aaec-7ee2b5609667",
   "metadata": {},
   "source": [
    "We perform the train-test split and, in addition, obtain the list of predictor variables. The predictor variables include: 'right,' 'wrong,' 'bias,' and dummy variables for lexemes. Unlike Model 1, in this case, the variable 'time' is not included as a predictor."
   ]
  },
  {
   "cell_type": "code",
   "execution_count": 15,
   "id": "f53dd9b3-34ca-43b7-8b1b-37d94c90e48b",
   "metadata": {
    "tags": []
   },
   "outputs": [],
   "source": [
    "trainset3, testset3, feature_vars3 = dr.read_data( subset, method = 'hlr', omit_lexemes = False )"
   ]
  },
  {
   "cell_type": "markdown",
   "id": "ca7e2f2a-18ff-4953-8df3-9727184ec084",
   "metadata": {},
   "source": [
    "We train the HLR replication model"
   ]
  },
  {
   "cell_type": "code",
   "execution_count": 16,
   "id": "9fc41b2d-3c4f-419a-a42e-2c491aa55cf7",
   "metadata": {
    "tags": []
   },
   "outputs": [
    {
     "name": "stdout",
     "output_type": "stream",
     "text": [
      "CPU times: total: 41.6 s\n",
      "Wall time: 41.9 s\n"
     ]
    }
   ],
   "source": [
    "%%time\n",
    "\n",
    "model_3 = dr.HLR_model( feature_columns = feature_vars3, omit_h_term = True )\n",
    "model_3.train( trainset3 )"
   ]
  },
  {
   "cell_type": "markdown",
   "id": "a9c613e3-eeb3-43eb-a40b-51229e28cd5d",
   "metadata": {},
   "source": [
    "We evaluate the model with the test set and obtain results"
   ]
  },
  {
   "cell_type": "code",
   "execution_count": 17,
   "id": "c820da51-1ccd-4075-baab-aa4f65a09603",
   "metadata": {
    "tags": []
   },
   "outputs": [
    {
     "name": "stdout",
     "output_type": "stream",
     "text": [
      "-----------------------------\n",
      "            Results          \n",
      "-----------------------------\n",
      "Total Loss : 188049.037\n",
      "p          : 180.259\n",
      "h          : 187868.778\n",
      "l2         : 0.000\n",
      "mae (p)    : 0.431\n",
      "cor (p)    : 0.011\n",
      "mae (h)    : 149.080\n",
      "cor (h)    : -0.092\n",
      "-----------------------------\n"
     ]
    }
   ],
   "source": [
    "model_3.test_model( testset3 )"
   ]
  },
  {
   "cell_type": "markdown",
   "id": "07fb47bf-11e2-48d9-a604-cea21a40478a",
   "metadata": {},
   "source": [
    "We export theta values for the Logit replication model"
   ]
  },
  {
   "cell_type": "code",
   "execution_count": 18,
   "id": "87205adb-86bb-438f-b637-e7c82fab4fc5",
   "metadata": {
    "tags": []
   },
   "outputs": [],
   "source": [
    "model_3.dump_theta( 'hlr_replication_thetas.txt' )"
   ]
  },
  {
   "cell_type": "markdown",
   "id": "0943a960-0978-4944-9ed7-a9249263282f",
   "metadata": {},
   "source": [
    "## 2.2. Original"
   ]
  },
  {
   "cell_type": "markdown",
   "id": "1897f74f-594a-4d6b-a5fe-6c6aae84cc36",
   "metadata": {},
   "source": [
    "We perform the train-test split and, in addition, obtain the list of predictor variables. The predictor variables include: 'right,' 'wrong,' 'bias,' and dummy variables for lexemes. Unlike Model 3, in this case, the variable 'time' is not included as a predictor."
   ]
  },
  {
   "cell_type": "code",
   "execution_count": 19,
   "id": "e81c26d9-b135-4acd-bdac-210b92797878",
   "metadata": {
    "tags": []
   },
   "outputs": [
    {
     "name": "stderr",
     "output_type": "stream",
     "text": [
      "done!\n"
     ]
    }
   ],
   "source": [
    "trainset2, testset2 = d.read_data( subset, method = 'hlr' )"
   ]
  },
  {
   "cell_type": "markdown",
   "id": "f6cc0e82-34db-40c3-9ee8-9e58a3232288",
   "metadata": {},
   "source": [
    "We fit the HLR original model. We omit h_term."
   ]
  },
  {
   "cell_type": "code",
   "execution_count": 20,
   "id": "27a1367a-1388-497e-8aa1-f26cb66a03d4",
   "metadata": {
    "tags": []
   },
   "outputs": [
    {
     "name": "stdout",
     "output_type": "stream",
     "text": [
      "CPU times: total: 46.9 ms\n",
      "Wall time: 46.2 ms\n"
     ]
    }
   ],
   "source": [
    "%%time\n",
    "\n",
    "model_4 = d.SpacedRepetitionModel( method = 'hlr', omit_h_term = True )\n",
    "model_4.train( trainset2 )"
   ]
  },
  {
   "cell_type": "markdown",
   "id": "450dfeda-1fd6-4d9e-bb95-831a58bd6097",
   "metadata": {},
   "source": [
    "We evaluate the model with the test set and obtain results. The first value on the right corresponds to the metric 'Total Loss.' The other metrics are named accordingly. The metrics are almost exactly the same as in the replication code."
   ]
  },
  {
   "cell_type": "code",
   "execution_count": 21,
   "id": "614472e3-811b-4dee-a9d1-829472b29588",
   "metadata": {
    "tags": []
   },
   "outputs": [
    {
     "name": "stderr",
     "output_type": "stream",
     "text": [
      "188048.806 (p=180.252, h=187868.554, l2=0.000)\tmae(p)=0.431\tcor(p)=0.011\tmae(h)=149.080\tcor(h)=-0.092\n"
     ]
    }
   ],
   "source": [
    "model_4.eval( testset2, h_seed = 5 )"
   ]
  },
  {
   "cell_type": "markdown",
   "id": "9b7c2c9c-c452-4df6-891a-d69b2311decc",
   "metadata": {},
   "source": [
    "We export theta values for the HLR original model. Thetas are almost exactly the same as in the replication code."
   ]
  },
  {
   "cell_type": "code",
   "execution_count": 22,
   "id": "1a779d84-4f26-4ac1-b018-01e6a3710668",
   "metadata": {
    "tags": []
   },
   "outputs": [],
   "source": [
    "model_4.dump_weights( 'hlr_original_thetas.txt' )"
   ]
  },
  {
   "cell_type": "code",
   "execution_count": null,
   "id": "3c112580-5f66-48af-b18f-06ca1caa176f",
   "metadata": {},
   "outputs": [],
   "source": []
  }
 ],
 "metadata": {
  "kernelspec": {
   "display_name": "Python 3 (ipykernel)",
   "language": "python",
   "name": "python3"
  },
  "language_info": {
   "codemirror_mode": {
    "name": "ipython",
    "version": 3
   },
   "file_extension": ".py",
   "mimetype": "text/x-python",
   "name": "python",
   "nbconvert_exporter": "python",
   "pygments_lexer": "ipython3",
   "version": "3.11.4"
  }
 },
 "nbformat": 4,
 "nbformat_minor": 5
}
