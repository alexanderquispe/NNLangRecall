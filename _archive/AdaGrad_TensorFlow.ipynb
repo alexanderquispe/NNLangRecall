{
 "cells": [
  {
   "cell_type": "code",
   "execution_count": 34,
   "id": "d2c75b1f",
   "metadata": {},
   "outputs": [],
   "source": [
    "import numpy as np\n",
    "import pandas as pd\n",
    "from sklearn.model_selection import train_test_split\n",
    "import tensorflow as tf\n",
    "import math"
   ]
  },
  {
   "cell_type": "code",
   "execution_count": 38,
   "id": "76947d30",
   "metadata": {},
   "outputs": [],
   "source": [
    "# Constants\n",
    "MIN_HALF_LIFE = 15.0 / (24 * 60)  # 15 minutes\n",
    "MAX_HALF_LIFE = 274.0             # 9 months\n",
    "LN2 = math.log(2)\n",
    "\n",
    "def pclip(p):\n",
    "    return tf.clip_by_value(p, 0.0001, 0.9999)\n",
    "\n",
    "def hclip(h):\n",
    "    return tf.clip_by_value(h, MIN_HALF_LIFE, MAX_HALF_LIFE)"
   ]
  },
  {
   "cell_type": "code",
   "execution_count": 73,
   "id": "6fe9c4cb",
   "metadata": {},
   "outputs": [],
   "source": [
    "def estimate_h_hat(theta, x):\n",
    "    estimated_h = 2 ** tf.tensordot(x, theta, axes=1)\n",
    "    return tf.squeeze(estimated_h)  # Remove extra dimensions if any\n",
    "\n",
    "\n",
    "def estimate_p_hat(delta, estimated_h):\n",
    "    predicted_p = 2 ** (-delta / estimated_h)\n",
    "    return predicted_p\n",
    "\n",
    "\n",
    "def hh_loss_function(p, predicted_p, estimated_h, delta, theta, regularization, lambda_param=0.1, alpha_param=0.01):\n",
    "    loss_p = tf.square(p - predicted_p)\n",
    "    loss_h = tf.square((-delta / tf.math.log(p) / tf.math.log(2.0)) - estimated_h)\n",
    "    \n",
    "    # Sum (or take mean) over all observations to get a scalar loss\n",
    "    loss_p_sum = tf.reduce_sum(loss_p)\n",
    "    loss_h_sum = tf.reduce_sum(loss_h)\n",
    "    \n",
    "    if regularization == 'l2':\n",
    "        regularization_term = lambda_param * tf.reduce_sum(tf.square(theta))\n",
    "    elif regularization == 'l1':\n",
    "        regularization_term = lambda_param * tf.reduce_sum(tf.abs(theta))\n",
    "    \n",
    "    loss = loss_p + alpha_param * loss_h + regularization_term\n",
    "    return loss\n"
   ]
  },
  {
   "cell_type": "code",
   "execution_count": 19,
   "id": "6174b9a9",
   "metadata": {},
   "outputs": [
    {
     "data": {
      "text/html": [
       "<div>\n",
       "<style scoped>\n",
       "    .dataframe tbody tr th:only-of-type {\n",
       "        vertical-align: middle;\n",
       "    }\n",
       "\n",
       "    .dataframe tbody tr th {\n",
       "        vertical-align: top;\n",
       "    }\n",
       "\n",
       "    .dataframe thead th {\n",
       "        text-align: right;\n",
       "    }\n",
       "</style>\n",
       "<table border=\"1\" class=\"dataframe\">\n",
       "  <thead>\n",
       "    <tr style=\"text-align: right;\">\n",
       "      <th></th>\n",
       "      <th>Unnamed: 0</th>\n",
       "      <th>p</th>\n",
       "      <th>t</th>\n",
       "      <th>right</th>\n",
       "      <th>wrong</th>\n",
       "      <th>bias</th>\n",
       "      <th>lexeme</th>\n",
       "      <th>h</th>\n",
       "      <th>a</th>\n",
       "      <th>lang</th>\n",
       "      <th>right_this</th>\n",
       "      <th>wrong_this</th>\n",
       "      <th>ts</th>\n",
       "      <th>uid</th>\n",
       "      <th>lexeme_orig</th>\n",
       "      <th>datetime</th>\n",
       "      <th>decimal_hours</th>\n",
       "    </tr>\n",
       "  </thead>\n",
       "  <tbody>\n",
       "    <tr>\n",
       "      <th>0</th>\n",
       "      <td>67736</td>\n",
       "      <td>0.5000</td>\n",
       "      <td>42.049549</td>\n",
       "      <td>2.236068</td>\n",
       "      <td>1.732051</td>\n",
       "      <td>1.0</td>\n",
       "      <td>en:europe/europe&lt;np&gt;&lt;loc&gt;&lt;sg&gt;</td>\n",
       "      <td>42.049549</td>\n",
       "      <td>0.423607</td>\n",
       "      <td>es-&gt;en</td>\n",
       "      <td>1</td>\n",
       "      <td>2</td>\n",
       "      <td>1362238751</td>\n",
       "      <td>u:dv9l</td>\n",
       "      <td>europe/europe&lt;np&gt;&lt;loc&gt;&lt;sg&gt;</td>\n",
       "      <td>2013-03-02 15:39:11</td>\n",
       "      <td>15.653056</td>\n",
       "    </tr>\n",
       "    <tr>\n",
       "      <th>1</th>\n",
       "      <td>209424</td>\n",
       "      <td>0.9999</td>\n",
       "      <td>0.005347</td>\n",
       "      <td>3.000000</td>\n",
       "      <td>1.000000</td>\n",
       "      <td>1.0</td>\n",
       "      <td>en:in/in&lt;pr&gt;</td>\n",
       "      <td>37.062267</td>\n",
       "      <td>0.416667</td>\n",
       "      <td>es-&gt;en</td>\n",
       "      <td>1</td>\n",
       "      <td>1</td>\n",
       "      <td>1362510201</td>\n",
       "      <td>u:gZip</td>\n",
       "      <td>in/in&lt;pr&gt;</td>\n",
       "      <td>2013-03-05 19:03:21</td>\n",
       "      <td>19.055833</td>\n",
       "    </tr>\n",
       "    <tr>\n",
       "      <th>2</th>\n",
       "      <td>446627</td>\n",
       "      <td>0.9999</td>\n",
       "      <td>0.904109</td>\n",
       "      <td>3.162278</td>\n",
       "      <td>1.414214</td>\n",
       "      <td>1.0</td>\n",
       "      <td>en:sees/see&lt;vblex&gt;&lt;pri&gt;&lt;p3&gt;&lt;sg&gt;</td>\n",
       "      <td>274.000000</td>\n",
       "      <td>0.368734</td>\n",
       "      <td>es-&gt;en</td>\n",
       "      <td>1</td>\n",
       "      <td>1</td>\n",
       "      <td>1362094794</td>\n",
       "      <td>u:iegs</td>\n",
       "      <td>sees/see&lt;vblex&gt;&lt;pri&gt;&lt;p3&gt;&lt;sg&gt;</td>\n",
       "      <td>2013-02-28 23:39:54</td>\n",
       "      <td>23.665000</td>\n",
       "    </tr>\n",
       "    <tr>\n",
       "      <th>3</th>\n",
       "      <td>141119</td>\n",
       "      <td>0.9999</td>\n",
       "      <td>1.104167</td>\n",
       "      <td>6.403124</td>\n",
       "      <td>1.000000</td>\n",
       "      <td>1.0</td>\n",
       "      <td>en:we/prpers&lt;prn&gt;&lt;subj&gt;&lt;p1&gt;&lt;mf&gt;&lt;pl&gt;</td>\n",
       "      <td>274.000000</td>\n",
       "      <td>0.190980</td>\n",
       "      <td>es-&gt;en</td>\n",
       "      <td>1</td>\n",
       "      <td>1</td>\n",
       "      <td>1362267676</td>\n",
       "      <td>u:feOc</td>\n",
       "      <td>we/prpers&lt;prn&gt;&lt;subj&gt;&lt;p1&gt;&lt;mf&gt;&lt;pl&gt;</td>\n",
       "      <td>2013-03-02 23:41:16</td>\n",
       "      <td>23.687778</td>\n",
       "    </tr>\n",
       "    <tr>\n",
       "      <th>4</th>\n",
       "      <td>50332</td>\n",
       "      <td>0.9999</td>\n",
       "      <td>0.090972</td>\n",
       "      <td>6.557439</td>\n",
       "      <td>3.464102</td>\n",
       "      <td>1.0</td>\n",
       "      <td>en:eats/eat&lt;vblex&gt;&lt;pri&gt;&lt;p3&gt;&lt;sg&gt;</td>\n",
       "      <td>274.000000</td>\n",
       "      <td>0.150131</td>\n",
       "      <td>es-&gt;en</td>\n",
       "      <td>2</td>\n",
       "      <td>2</td>\n",
       "      <td>1362183822</td>\n",
       "      <td>u:dTHC</td>\n",
       "      <td>eats/eat&lt;vblex&gt;&lt;pri&gt;&lt;p3&gt;&lt;sg&gt;</td>\n",
       "      <td>2013-03-02 00:23:42</td>\n",
       "      <td>0.395000</td>\n",
       "    </tr>\n",
       "    <tr>\n",
       "      <th>...</th>\n",
       "      <td>...</td>\n",
       "      <td>...</td>\n",
       "      <td>...</td>\n",
       "      <td>...</td>\n",
       "      <td>...</td>\n",
       "      <td>...</td>\n",
       "      <td>...</td>\n",
       "      <td>...</td>\n",
       "      <td>...</td>\n",
       "      <td>...</td>\n",
       "      <td>...</td>\n",
       "      <td>...</td>\n",
       "      <td>...</td>\n",
       "      <td>...</td>\n",
       "      <td>...</td>\n",
       "      <td>...</td>\n",
       "      <td>...</td>\n",
       "    </tr>\n",
       "    <tr>\n",
       "      <th>995</th>\n",
       "      <td>454337</td>\n",
       "      <td>0.5000</td>\n",
       "      <td>0.026470</td>\n",
       "      <td>1.732051</td>\n",
       "      <td>1.000000</td>\n",
       "      <td>1.0</td>\n",
       "      <td>en:though/though&lt;cnjsub&gt;</td>\n",
       "      <td>0.026470</td>\n",
       "      <td>0.622008</td>\n",
       "      <td>es-&gt;en</td>\n",
       "      <td>1</td>\n",
       "      <td>2</td>\n",
       "      <td>1362322756</td>\n",
       "      <td>u:ih9Y</td>\n",
       "      <td>though/though&lt;cnjsub&gt;</td>\n",
       "      <td>2013-03-03 14:59:16</td>\n",
       "      <td>14.987778</td>\n",
       "    </tr>\n",
       "    <tr>\n",
       "      <th>996</th>\n",
       "      <td>3241</td>\n",
       "      <td>0.9999</td>\n",
       "      <td>0.000197</td>\n",
       "      <td>2.236068</td>\n",
       "      <td>1.732051</td>\n",
       "      <td>1.0</td>\n",
       "      <td>en:figure/figure&lt;n&gt;&lt;sg&gt;</td>\n",
       "      <td>1.363763</td>\n",
       "      <td>0.423607</td>\n",
       "      <td>es-&gt;en</td>\n",
       "      <td>2</td>\n",
       "      <td>2</td>\n",
       "      <td>1362397491</td>\n",
       "      <td>u:Mh8</td>\n",
       "      <td>figure/figure&lt;n&gt;&lt;sg&gt;</td>\n",
       "      <td>2013-03-04 11:44:51</td>\n",
       "      <td>11.747500</td>\n",
       "    </tr>\n",
       "    <tr>\n",
       "      <th>997</th>\n",
       "      <td>448452</td>\n",
       "      <td>0.9999</td>\n",
       "      <td>0.002164</td>\n",
       "      <td>5.291503</td>\n",
       "      <td>1.732051</td>\n",
       "      <td>1.0</td>\n",
       "      <td>en:drinks/drink&lt;vblex&gt;&lt;pri&gt;&lt;p3&gt;&lt;sg&gt;</td>\n",
       "      <td>15.001394</td>\n",
       "      <td>0.220955</td>\n",
       "      <td>es-&gt;en</td>\n",
       "      <td>1</td>\n",
       "      <td>1</td>\n",
       "      <td>1362883254</td>\n",
       "      <td>u:ifMk</td>\n",
       "      <td>drinks/drink&lt;vblex&gt;&lt;pri&gt;&lt;p3&gt;&lt;sg&gt;</td>\n",
       "      <td>2013-03-10 02:40:54</td>\n",
       "      <td>2.681667</td>\n",
       "    </tr>\n",
       "    <tr>\n",
       "      <th>998</th>\n",
       "      <td>70989</td>\n",
       "      <td>0.0001</td>\n",
       "      <td>0.020093</td>\n",
       "      <td>2.000000</td>\n",
       "      <td>1.414214</td>\n",
       "      <td>1.0</td>\n",
       "      <td>en:flute/flute&lt;n&gt;&lt;sg&gt;</td>\n",
       "      <td>0.010417</td>\n",
       "      <td>0.500000</td>\n",
       "      <td>es-&gt;en</td>\n",
       "      <td>0</td>\n",
       "      <td>2</td>\n",
       "      <td>1362517638</td>\n",
       "      <td>u:dzG6</td>\n",
       "      <td>flute/flute&lt;n&gt;&lt;sg&gt;</td>\n",
       "      <td>2013-03-05 21:07:18</td>\n",
       "      <td>21.121667</td>\n",
       "    </tr>\n",
       "    <tr>\n",
       "      <th>999</th>\n",
       "      <td>16510</td>\n",
       "      <td>0.9999</td>\n",
       "      <td>61.989688</td>\n",
       "      <td>2.000000</td>\n",
       "      <td>1.414214</td>\n",
       "      <td>1.0</td>\n",
       "      <td>en:many/many&lt;det&gt;&lt;qnt&gt;&lt;pl&gt;</td>\n",
       "      <td>274.000000</td>\n",
       "      <td>0.500000</td>\n",
       "      <td>es-&gt;en</td>\n",
       "      <td>3</td>\n",
       "      <td>3</td>\n",
       "      <td>1362574946</td>\n",
       "      <td>u:c-yp</td>\n",
       "      <td>many/many&lt;det&gt;&lt;qnt&gt;&lt;pl&gt;</td>\n",
       "      <td>2013-03-06 13:02:26</td>\n",
       "      <td>13.040556</td>\n",
       "    </tr>\n",
       "  </tbody>\n",
       "</table>\n",
       "<p>1000 rows × 17 columns</p>\n",
       "</div>"
      ],
      "text/plain": [
       "     Unnamed: 0       p          t     right     wrong  bias  \\\n",
       "0         67736  0.5000  42.049549  2.236068  1.732051   1.0   \n",
       "1        209424  0.9999   0.005347  3.000000  1.000000   1.0   \n",
       "2        446627  0.9999   0.904109  3.162278  1.414214   1.0   \n",
       "3        141119  0.9999   1.104167  6.403124  1.000000   1.0   \n",
       "4         50332  0.9999   0.090972  6.557439  3.464102   1.0   \n",
       "..          ...     ...        ...       ...       ...   ...   \n",
       "995      454337  0.5000   0.026470  1.732051  1.000000   1.0   \n",
       "996        3241  0.9999   0.000197  2.236068  1.732051   1.0   \n",
       "997      448452  0.9999   0.002164  5.291503  1.732051   1.0   \n",
       "998       70989  0.0001   0.020093  2.000000  1.414214   1.0   \n",
       "999       16510  0.9999  61.989688  2.000000  1.414214   1.0   \n",
       "\n",
       "                                  lexeme           h         a    lang  \\\n",
       "0          en:europe/europe<np><loc><sg>   42.049549  0.423607  es->en   \n",
       "1                           en:in/in<pr>   37.062267  0.416667  es->en   \n",
       "2        en:sees/see<vblex><pri><p3><sg>  274.000000  0.368734  es->en   \n",
       "3    en:we/prpers<prn><subj><p1><mf><pl>  274.000000  0.190980  es->en   \n",
       "4        en:eats/eat<vblex><pri><p3><sg>  274.000000  0.150131  es->en   \n",
       "..                                   ...         ...       ...     ...   \n",
       "995             en:though/though<cnjsub>    0.026470  0.622008  es->en   \n",
       "996              en:figure/figure<n><sg>    1.363763  0.423607  es->en   \n",
       "997  en:drinks/drink<vblex><pri><p3><sg>   15.001394  0.220955  es->en   \n",
       "998                en:flute/flute<n><sg>    0.010417  0.500000  es->en   \n",
       "999           en:many/many<det><qnt><pl>  274.000000  0.500000  es->en   \n",
       "\n",
       "     right_this  wrong_this          ts     uid  \\\n",
       "0             1           2  1362238751  u:dv9l   \n",
       "1             1           1  1362510201  u:gZip   \n",
       "2             1           1  1362094794  u:iegs   \n",
       "3             1           1  1362267676  u:feOc   \n",
       "4             2           2  1362183822  u:dTHC   \n",
       "..          ...         ...         ...     ...   \n",
       "995           1           2  1362322756  u:ih9Y   \n",
       "996           2           2  1362397491   u:Mh8   \n",
       "997           1           1  1362883254  u:ifMk   \n",
       "998           0           2  1362517638  u:dzG6   \n",
       "999           3           3  1362574946  u:c-yp   \n",
       "\n",
       "                          lexeme_orig             datetime  decimal_hours  \n",
       "0          europe/europe<np><loc><sg>  2013-03-02 15:39:11      15.653056  \n",
       "1                           in/in<pr>  2013-03-05 19:03:21      19.055833  \n",
       "2        sees/see<vblex><pri><p3><sg>  2013-02-28 23:39:54      23.665000  \n",
       "3    we/prpers<prn><subj><p1><mf><pl>  2013-03-02 23:41:16      23.687778  \n",
       "4        eats/eat<vblex><pri><p3><sg>  2013-03-02 00:23:42       0.395000  \n",
       "..                                ...                  ...            ...  \n",
       "995             though/though<cnjsub>  2013-03-03 14:59:16      14.987778  \n",
       "996              figure/figure<n><sg>  2013-03-04 11:44:51      11.747500  \n",
       "997  drinks/drink<vblex><pri><p3><sg>  2013-03-10 02:40:54       2.681667  \n",
       "998                flute/flute<n><sg>  2013-03-05 21:07:18      21.121667  \n",
       "999           many/many<det><qnt><pl>  2013-03-06 13:02:26      13.040556  \n",
       "\n",
       "[1000 rows x 17 columns]"
      ]
     },
     "execution_count": 19,
     "metadata": {},
     "output_type": "execute_result"
    }
   ],
   "source": [
    "data      = pd.read_csv( 'subset_1000.csv' )\n",
    "data"
   ]
  },
  {
   "cell_type": "code",
   "execution_count": 20,
   "id": "69d0cee1",
   "metadata": {},
   "outputs": [
    {
     "data": {
      "text/plain": [
       "Index(['Unnamed: 0', 'p', 't', 'right', 'wrong', 'bias', 'lexeme', 'h', 'a',\n",
       "       'lang', 'right_this', 'wrong_this', 'ts', 'uid', 'lexeme_orig',\n",
       "       'datetime', 'decimal_hours'],\n",
       "      dtype='object')"
      ]
     },
     "execution_count": 20,
     "metadata": {},
     "output_type": "execute_result"
    }
   ],
   "source": [
    "data.columns"
   ]
  },
  {
   "cell_type": "code",
   "execution_count": 28,
   "id": "9ff36b14",
   "metadata": {},
   "outputs": [],
   "source": [
    "import pandas as pd\n",
    "import tensorflow as tf\n",
    "\n",
    "# Assuming 'data' is your DataFrame\n",
    "x_data = data[['right', 'wrong', 'bias']]  # Replace with your column names for x\n",
    "delta_data = data['t']  # Replace with your column name for delta\n",
    "p_data = data['p']  # Replace with your column name for p"
   ]
  },
  {
   "cell_type": "code",
   "execution_count": 81,
   "id": "87359f96",
   "metadata": {},
   "outputs": [
    {
     "data": {
      "text/plain": [
       "<tf.Tensor: shape=(3, 1), dtype=float32, numpy=\n",
       "array([[-0.00055976],\n",
       "       [-0.0004415 ],\n",
       "       [ 0.00032743]], dtype=float32)>"
      ]
     },
     "execution_count": 81,
     "metadata": {},
     "output_type": "execute_result"
    }
   ],
   "source": [
    "tf.Variable(tf.random.normal([x.shape[1], 1]))*0.001"
   ]
  },
  {
   "cell_type": "code",
   "execution_count": 84,
   "id": "db48b4ab",
   "metadata": {},
   "outputs": [
    {
     "name": "stdout",
     "output_type": "stream",
     "text": [
      "Gradient Norm: 4354946.0\n",
      "Gradient Norm: nan\n",
      "Gradient Norm: nan\n",
      "Gradient Norm: nan\n",
      "Gradient Norm: nan\n",
      "Gradient Norm: nan\n",
      "Gradient Norm: nan\n",
      "Gradient Norm: nan\n",
      "Gradient Norm: nan\n",
      "Gradient Norm: nan\n"
     ]
    }
   ],
   "source": [
    "# Example data (replace these with your actual data)\n",
    "x = tf.constant(x_data, dtype=tf.float32)\n",
    "delta = tf.constant(delta_data, dtype=tf.float32)\n",
    "p = tf.constant(p_data, dtype=tf.float32)\n",
    "\n",
    "# Initialize theta (model parameters)\n",
    "theta = tf.Variable(tf.random.normal([x.shape[1], 1])*0.001, name='theta')\n",
    "\n",
    "# Optimizer\n",
    "optimizer = tf.optimizers.Adagrad(learning_rate=0.001)\n",
    "# optimizer = tf.optimizers.SGD(learning_rate=0.01)\n",
    "\n",
    "# Optimization loop\n",
    "for i in range(1000):\n",
    "    with tf.GradientTape() as tape:\n",
    "        estimated_h = estimate_h_hat(theta, x)\n",
    "        estimated_h = hclip(estimated_h)\n",
    "        \n",
    "        predicted_p = estimate_p_hat(delta, estimated_h)\n",
    "        predicted_p = pclip(predicted_p)\n",
    "        \n",
    "        loss = hh_loss_function(p, predicted_p, estimated_h, delta, theta, regularization='l2')\n",
    "    \n",
    "    gradients = tape.gradient(loss, [theta])\n",
    "    optimizer.apply_gradients(zip(gradients, [theta]))\n",
    "    \n",
    "# Calculate and print the gradient norm\n",
    "    grad_norm = tf.norm(gradients[0])\n",
    "    if i % 100 == 0:\n",
    "        print(f\"Gradient Norm: {grad_norm.numpy()}\")"
   ]
  },
  {
   "cell_type": "code",
   "execution_count": 67,
   "id": "591435b4",
   "metadata": {},
   "outputs": [
    {
     "name": "stdout",
     "output_type": "stream",
     "text": [
      "Optimized Theta: [[0.53253347]\n",
      " [0.73516107]\n",
      " [0.668873  ]]\n"
     ]
    }
   ],
   "source": [
    "optimized_theta = theta.numpy()\n",
    "print(\"Optimized Theta:\", optimized_theta)"
   ]
  },
  {
   "cell_type": "code",
   "execution_count": 69,
   "id": "4f66f663",
   "metadata": {},
   "outputs": [
    {
     "data": {
      "text/plain": [
       "(1000,)"
      ]
     },
     "execution_count": 69,
     "metadata": {},
     "output_type": "execute_result"
    }
   ],
   "source": [
    "loss.numpy().shape"
   ]
  },
  {
   "cell_type": "code",
   "execution_count": 70,
   "id": "bdde2ef4",
   "metadata": {},
   "outputs": [
    {
     "data": {
      "text/plain": [
       "(1000, 17)"
      ]
     },
     "execution_count": 70,
     "metadata": {},
     "output_type": "execute_result"
    }
   ],
   "source": [
    "data.shape"
   ]
  },
  {
   "cell_type": "code",
   "execution_count": 72,
   "id": "3f4b96a4",
   "metadata": {},
   "outputs": [
    {
     "name": "stdout",
     "output_type": "stream",
     "text": [
      "Loss shape: tf.Tensor([1000], shape=(1,), dtype=int32)\n"
     ]
    }
   ],
   "source": [
    "print(\"Loss shape:\", tf.shape(loss))\n"
   ]
  },
  {
   "cell_type": "code",
   "execution_count": 76,
   "id": "44ec18f1",
   "metadata": {},
   "outputs": [
    {
     "data": {
      "text/plain": [
       "26220648.0"
      ]
     },
     "execution_count": 76,
     "metadata": {},
     "output_type": "execute_result"
    }
   ],
   "source": [
    "grad_norm.numpy()"
   ]
  },
  {
   "cell_type": "code",
   "execution_count": null,
   "id": "62405983",
   "metadata": {},
   "outputs": [],
   "source": []
  }
 ],
 "metadata": {
  "kernelspec": {
   "display_name": "Python 3 (ipykernel)",
   "language": "python",
   "name": "python3"
  },
  "language_info": {
   "codemirror_mode": {
    "name": "ipython",
    "version": 3
   },
   "file_extension": ".py",
   "mimetype": "text/x-python",
   "name": "python",
   "nbconvert_exporter": "python",
   "pygments_lexer": "ipython3",
   "version": "3.11.4"
  }
 },
 "nbformat": 4,
 "nbformat_minor": 5
}
