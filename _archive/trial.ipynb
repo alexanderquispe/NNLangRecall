{
 "cells": [
  {
   "cell_type": "code",
   "execution_count": null,
   "id": "07961e3c-3e23-46ab-a2c4-5ea3f3914dd4",
   "metadata": {
    "tags": []
   },
   "outputs": [],
   "source": [
    "import numpy as np\n",
    "import pandas as pd\n",
    "from collections import defaultdict\n",
    "from sklearn.model_selection import train_test_split"
   ]
  },
  {
   "cell_type": "code",
   "execution_count": null,
   "id": "0330e240-c869-4b9c-85cf-f5a83ae5f454",
   "metadata": {
    "tags": []
   },
   "outputs": [],
   "source": [
    "import functions as fn"
   ]
  },
  {
   "cell_type": "markdown",
   "id": "f75f45b2-a576-4d48-a4af-f1af0dfaba83",
   "metadata": {},
   "source": [
    "## First run with 1000 obs"
   ]
  },
  {
   "cell_type": "code",
   "execution_count": null,
   "id": "09070d58-d6ad-4f84-b089-7c815c73800c",
   "metadata": {
    "tags": []
   },
   "outputs": [],
   "source": [
    "data        = pd.read_csv( 'subset_1000.csv' )\n",
    "dummies     = pd.get_dummies( data[ 'lexeme' ], prefix = 'cat', dtype=float )\n",
    "dummies_col = dummies.columns.to_list()\n",
    "df          = pd.concat( [ data, dummies ], axis = 1 )\n",
    "\n",
    "pred_vars = [ 'right', 'wrong', 'bias', 't' ]\n",
    "dummies_  = dummies_col + pred_vars\n",
    "\n",
    "X_train, X_test, Y_train, Y_test = train_test_split( df[ dummies_ ], \n",
    "                                                     df[ 'p' ], \n",
    "                                                     test_size    = 0.30,\n",
    "                                                     random_state = 7 )\n",
    "\n",
    "dummies_.remove('t')"
   ]
  },
  {
   "cell_type": "code",
   "execution_count": null,
   "id": "aa30cc2b-7d5e-41c3-8248-c3bd38fae8fa",
   "metadata": {
    "tags": []
   },
   "outputs": [],
   "source": [
    "adagrad = fn.hlr_adagrad(feature_columns=dummies_, lambda_ = 0.01, eta = 0.1)\n",
    "cost_history = adagrad.train(X_train, Y_train )"
   ]
  }
 ],
 "metadata": {
  "kernelspec": {
   "display_name": "Python 3 (ipykernel)",
   "language": "python",
   "name": "python3"
  },
  "language_info": {
   "codemirror_mode": {
    "name": "ipython",
    "version": 3
   },
   "file_extension": ".py",
   "mimetype": "text/x-python",
   "name": "python",
   "nbconvert_exporter": "python",
   "pygments_lexer": "ipython3",
   "version": "3.11.4"
  }
 },
 "nbformat": 4,
 "nbformat_minor": 5
}
