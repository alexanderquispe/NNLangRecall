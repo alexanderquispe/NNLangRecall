{
 "cells": [
  {
   "cell_type": "markdown",
   "id": "bdc31938",
   "metadata": {},
   "source": [
    "# Read Datafile"
   ]
  },
  {
   "cell_type": "code",
   "execution_count": null,
   "id": "5f7a7bb3",
   "metadata": {},
   "outputs": [],
   "source": [
    "import pandas as pd\n",
    "import math\n",
    "import gzip\n",
    "import csv\n",
    "import sys"
   ]
  },
  {
   "cell_type": "code",
   "execution_count": null,
   "id": "160de507",
   "metadata": {},
   "outputs": [],
   "source": [
    "duolingo_data = pd.read_csv(r'C:\\Users\\Alexander\\Dropbox\\halflife_regression_rl\\0_data/learning_traces.13m.csv')"
   ]
  },
  {
   "cell_type": "code",
   "execution_count": null,
   "id": "46cf18b0",
   "metadata": {},
   "outputs": [],
   "source": [
    "# Constants\n",
    "MIN_HALF_LIFE = 15.0 / (24 * 60)  # 15 minutes\n",
    "MAX_HALF_LIFE = 274.0             # 9 months\n",
    "LN2 = math.log(2)\n",
    "\n",
    "def pclip(p):\n",
    "    return min(max(p, 0.0001), 0.9999)\n",
    "\n",
    "def hclip(h):\n",
    "    return min(max(h, MIN_HALF_LIFE), MAX_HALF_LIFE)\n",
    "\n",
    "# Convert time delta to days and calculate half-life\n",
    "duolingo_data['p_recall'] = duolingo_data['p_recall'].apply(pclip)\n",
    "duolingo_data['t'] = duolingo_data['delta'] / (60 * 60 * 24)\n",
    "duolingo_data['h'] = duolingo_data.apply(lambda row: hclip(-row['t'] / (math.log(row['p_recall'], 2) if row['p_recall'] > 0 else float('inf'))), axis=1)\n",
    "duolingo_data['lang'] = duolingo_data['ui_language'] + \"->\" + duolingo_data['learning_language']\n",
    "# Feature vector creation based on method\n",
    "\n",
    "duolingo_data['seen'] = duolingo_data['history_seen']\n",
    "duolingo_data['right'] = duolingo_data['history_correct']\n",
    "duolingo_data['wrong'] = duolingo_data['history_seen'] - duolingo_data['right']\n",
    "\n",
    "duolingo_data['right_this'] = duolingo_data['session_correct']\n",
    "duolingo_data['wrong_this'] = duolingo_data['session_seen']\n",
    "\n",
    "duolingo_data['right'] = duolingo_data['right'].apply(lambda x: math.sqrt(1+x))\n",
    "duolingo_data['wrong'] = (duolingo_data['wrong']).apply(lambda x: math.sqrt(1+x))\n",
    "\n",
    "duolingo_data['a'] = (duolingo_data['right'] + 2) / (duolingo_data['seen'] + 4)\n",
    "\n",
    "duolingo_data['lexeme'] = duolingo_data['learning_language'] + \":\" + duolingo_data['lexeme_string']\n",
    "\n",
    "duolingo_data['time'] = duolingo_data['t']"
   ]
  },
  {
   "cell_type": "code",
   "execution_count": null,
   "id": "54b0d7ca",
   "metadata": {},
   "outputs": [],
   "source": [
    "duolingo_data"
   ]
  },
  {
   "cell_type": "code",
   "execution_count": null,
   "id": "1cf44bc5",
   "metadata": {},
   "outputs": [],
   "source": [
    "en_duolingo = duolingo_data[duolingo_data['learning_language'] == 'en']\n",
    "en_duolingo"
   ]
  },
  {
   "cell_type": "code",
   "execution_count": null,
   "id": "718a7332",
   "metadata": {},
   "outputs": [],
   "source": [
    "en_duolingo['datetime'] = pd.to_datetime(en_duolingo['timestamp'], unit='s')\n",
    "en_duolingo['datetime']"
   ]
  },
  {
   "cell_type": "code",
   "execution_count": null,
   "id": "b3b9aeb3",
   "metadata": {},
   "outputs": [],
   "source": [
    "# Function to convert time to decimal hours\n",
    "def time_to_decimal(time):\n",
    "    return time.hour + time.minute / 60 + time.second / 3600\n",
    "\n",
    "# Apply the function to the 'datetime' column\n",
    "en_duolingo['decimal_hours'] = en_duolingo['datetime'].apply(lambda x: time_to_decimal(x))"
   ]
  },
  {
   "cell_type": "code",
   "execution_count": null,
   "id": "a4637714",
   "metadata": {},
   "outputs": [],
   "source": [
    "import seaborn as sns\n",
    "import matplotlib.pyplot as plt\n",
    "\n",
    "# Set the aesthetic style of the plots\n",
    "sns.set_style(\"whitegrid\")\n",
    "\n",
    "plt.figure(figsize=(10, 6))\n",
    "sns.histplot(en_duolingo['decimal_hours'], bins=50, color='skyblue', edgecolor='black', stat='percent')\n",
    "\n",
    "plt.title('Histogram of Decimal Hours', fontsize=15)\n",
    "plt.xlabel('Time Session', fontsize=12)\n",
    "plt.ylabel('Percentage', fontsize=12)\n",
    "plt.savefig('C:/Users/Alexander/Documents/GitHub/NNLangRecall/figs/decimal_hours_histogram.jpg', format='jpg')  # Save as JPG\n",
    "plt.show()\n"
   ]
  },
  {
   "cell_type": "code",
   "execution_count": null,
   "id": "61339f2d",
   "metadata": {},
   "outputs": [],
   "source": [
    "import seaborn as sns\n",
    "import matplotlib.pyplot as plt\n",
    "\n",
    "# Set the aesthetic style of the plots\n",
    "sns.set_style(\"whitegrid\")\n",
    "\n",
    "plt.figure(figsize=(10, 6))\n",
    "sns.histplot(en_duolingo['p_recall'], bins=50, color='skyblue', edgecolor='black', stat='percent')\n",
    "\n",
    "plt.title('Probability of Recall Distribution', fontsize=15)\n",
    "plt.xlabel('Probability of Recall', fontsize=12)\n",
    "plt.ylabel('Percentage', fontsize=12)\n",
    "plt.show()"
   ]
  },
  {
   "cell_type": "code",
   "execution_count": null,
   "id": "387edb9f",
   "metadata": {},
   "outputs": [],
   "source": [
    "# import matplotlib.pyplot as plt\n",
    "\n",
    "# # Plotting the histogram\n",
    "# plt.figure(figsize=(10, 6))  # Set the size of the figure\n",
    "# plt.hist(en_duolingo['p_recall'], bins=30, color='skyblue', edgecolor='black', stat='percent')\n",
    "# a\n",
    "# # Adding titles and labels\n",
    "# plt.title('Probability of Recall Distribution', fontsize=15)\n",
    "# plt.xlabel('Probability of Recall', fontsize=12)\n",
    "# plt.ylabel('Frequency', fontsize=12)\n",
    "\n",
    "# # Optional: Adding a grid for easier readability\n",
    "# plt.grid(axis='y', alpha=0.75)\n",
    "\n",
    "# plt.show()\n"
   ]
  },
  {
   "cell_type": "code",
   "execution_count": null,
   "id": "2fe9bda3",
   "metadata": {},
   "outputs": [],
   "source": [
    "def plot_histogram(data, column, bins=30, title=None, xlabel=None):\n",
    "    plt.figure(figsize=(10, 6))\n",
    "    plt.hist(data[column], bins=bins, color='skyblue', edgecolor='black')\n",
    "    plt.title(title or f'Histogram of {column}', fontsize=15)\n",
    "    plt.xlabel(xlabel or column, fontsize=12)\n",
    "    plt.ylabel('Frequency', fontsize=12)\n",
    "    plt.grid(axis='y', alpha=0.75)\n",
    "    plt.show()\n"
   ]
  },
  {
   "cell_type": "code",
   "execution_count": null,
   "id": "616dcb89",
   "metadata": {},
   "outputs": [],
   "source": [
    "import matplotlib.pyplot as plt\n",
    "import seaborn as sns\n",
    "import numpy as np\n",
    "\n",
    "def plot_histograms(dataframe, columns_info, rows, cols,  filename):\n",
    "    \"\"\"\n",
    "    Plots histograms in a grid layout for the specified columns in the dataframe.\n",
    "\n",
    "    :param dataframe: Pandas DataFrame containing the data.\n",
    "    :param columns_info: List of dictionaries with keys 'column', 'bins', 'title', 'xlabel'.\n",
    "    :param rows: Number of rows in the grid.\n",
    "    :param cols: Number of columns in the grid.\n",
    "    \"\"\"\n",
    "    fig, axes = plt.subplots(rows, cols, figsize=(10, 15))\n",
    "    axes = axes.ravel()  # Flatten the array of axes\n",
    "\n",
    "    for i, info in enumerate(columns_info):\n",
    "        # Calculate the percentages for the histogram\n",
    "        counts, bins = np.histogram(dataframe[info['column']], bins=info.get('bins', 10))\n",
    "        percentages = counts / counts.sum() * 100\n",
    "\n",
    "        # Plotting\n",
    "        sns.histplot(dataframe, x=info['column'], bins=bins, ax=axes[i], stat='percent')\n",
    "        axes[i].set_title(info['title'])\n",
    "        axes[i].set_xlabel(info['xlabel'])\n",
    "        axes[i].set_ylabel('Percentage')\n",
    "\n",
    "\n",
    "    plt.tight_layout()\n",
    "    plt.savefig(filename, format=filename.split('.')[-1])\n",
    "    plt.close(fig)\n",
    "\n",
    "\n",
    "\n",
    "# Usage\n",
    "columns_info = [\n",
    "    {'column': 'p_recall', 'title': 'Probability of Recall Distribution', 'xlabel': 'Probability'},\n",
    "    {'column': 'h', 'bins': 40, 'title': 'Half-life Measure Distribution', 'xlabel': 'Half-life (Days)'},\n",
    "    {'column': 't', 'bins': 40, 'title': 'Lag Time in Days Distribution', 'xlabel': 'Days'},\n",
    "    {'column': 'seen', 'bins': 40, 'title': 'Total number of exposures to a word', 'xlabel': 'Seen Count'},\n",
    "    {'column': 'right', 'bins': 40, 'title': 'Correct recalls Distribution', 'xlabel': 'Right Count'},\n",
    "    {'column': 'wrong', 'bins': 40, 'title': 'Incorrect recalls Distribution', 'xlabel': 'Wrong Count'}\n",
    "]\n",
    "\n",
    "plot_histograms(duolingo_data, columns_info, rows=3, cols=2,  filename='C:/Users/Alexander/Documents/GitHub/NNLangRecall/figs/duolingo_histograms.jpg')\n"
   ]
  },
  {
   "cell_type": "code",
   "execution_count": null,
   "id": "b6d1c55c",
   "metadata": {},
   "outputs": [],
   "source": []
  },
  {
   "cell_type": "code",
   "execution_count": null,
   "id": "ee800694",
   "metadata": {},
   "outputs": [],
   "source": [
    "plot_histogram(duolingo_data, 'p_recall', title='Probability of Recall Distribution', xlabel='Probability of Recall')\n",
    "\n",
    "plot_histogram(duolingo_data, 'h', bins=40, title='Half-life Distribution', xlabel='Half-life (Days)')\n",
    "\n",
    "plot_histogram(duolingo_data, 't', bins=40, title='Time Delta in Days Distribution', xlabel='Days')\n",
    "\n",
    "# Similarly, for other variables like 'seen', 'right', 'wrong', 'a'\n",
    "plot_histogram(duolingo_data, 'seen', bins=40, title='Seen Distribution', xlabel='Seen Count')\n",
    "\n",
    "plot_histogram(duolingo_data, 'right', bins=40, title='Right Distribution', xlabel='Right Count')\n",
    "\n",
    "plot_histogram(duolingo_data, 'wrong', bins=40, title='Wrong Distribution', xlabel='Wrong Count')\n",
    "plot_histogram(duolingo_data, 'decimal_hours', bins=40, title='Session Time', xlabel='Wrong Count')\n",
    "\n",
    "\n",
    "#plot_histogram(duolingo_data, 'a', bins=40, title='Feature A Distribution', xlabel='Feature A')\n"
   ]
  },
  {
   "cell_type": "code",
   "execution_count": null,
   "id": "251d2b72",
   "metadata": {},
   "outputs": [],
   "source": [
    "en_duolingo['datetime']"
   ]
  },
  {
   "cell_type": "code",
   "execution_count": null,
   "id": "8885515b",
   "metadata": {},
   "outputs": [],
   "source": [
    "import pandas as pd\n",
    "\n",
    "# Assuming en_duolingo['datetime'] is a string representing datetime\n",
    "en_duolingo['date_only'] = pd.to_datetime(en_duolingo['datetime']).dt.date\n",
    "en_duolingo['date_only']"
   ]
  },
  {
   "cell_type": "code",
   "execution_count": null,
   "id": "a53150b2",
   "metadata": {},
   "outputs": [],
   "source": [
    "import seaborn as sns\n",
    "\n",
    "plt.figure(figsize=(10, 6))\n",
    "sns.histplot(en_duolingo['date_only'], bins=30, kde=False, color='skyblue')\n",
    "plt.title('Practice Dates Distribution', fontsize=15)\n",
    "plt.xlabel('Date', fontsize=12)\n",
    "plt.ylabel('Frequency of Practice', fontsize=12)\n",
    "plt.xticks(rotation=45)  # Rotate the x-axis labels for better readability\n",
    "plt.show()\n"
   ]
  },
  {
   "cell_type": "code",
   "execution_count": null,
   "id": "54d3ddef",
   "metadata": {},
   "outputs": [],
   "source": [
    "user_trials = duolingo_data.groupby('user_id').size().reset_index(name='trial_count')\n",
    "import seaborn as sns\n",
    "import matplotlib.pyplot as plt\n",
    "\n",
    "plt.figure(figsize=(10, 6))\n",
    "sns.histplot(user_trials['trial_count'], bins=30, kde=False, color='skyblue')\n",
    "plt.title('Distribution of Trial Counts per User', fontsize=15)\n",
    "plt.xlabel('Number of Trials', fontsize=12)\n",
    "plt.ylabel('Number of Users', fontsize=12)\n",
    "plt.show()\n"
   ]
  },
  {
   "cell_type": "code",
   "execution_count": null,
   "id": "7a5b6a18",
   "metadata": {},
   "outputs": [],
   "source": [
    "from scipy.stats.mstats import winsorize\n",
    "# Winsorizing at the 99th percentile\n",
    "user_trials['trial_count_winsorized'] = winsorize(user_trials['trial_count'], limits=[0, 0.1])\n",
    "plt.figure(figsize=(10, 6))\n",
    "sns.histplot(user_trials['trial_count_winsorized'], bins=50, color='skyblue', stat='percent')\n",
    "plt.title('Winsorized Distribution of Trial Counts per User - p(0.1)', fontsize=15)\n",
    "plt.xlabel('Number of Trials', fontsize=12)\n",
    "plt.ylabel('Percentage', fontsize=12)\n",
    "plt.savefig('C:/Users/Alexander/Documents/GitHub/NNLangRecall/figs/trials_user_p10_histogram.jpg', format='jpg')  # Save as JPG\n",
    "plt.show()\n"
   ]
  },
  {
   "cell_type": "code",
   "execution_count": null,
   "id": "f2791c62",
   "metadata": {},
   "outputs": [],
   "source": [
    "import pandas as pd\n",
    "import seaborn as sns\n",
    "import matplotlib.pyplot as plt\n",
    "\n",
    "# Assuming 'date_only' is already a date column\n",
    "# Count unique dates for each user\n",
    "unique_practice_days = en_duolingo.groupby('user_id')['date_only'].nunique().reset_index(name='unique_days')\n",
    "\n",
    "plt.figure(figsize=(10, 6))\n",
    "# Set discrete=True for treating the variable as categorical\n",
    "sns.histplot(unique_practice_days['unique_days'], discrete=True, kde=False, color='skyblue')\n",
    "plt.title('Distribution of Unique Practice Days per User', fontsize=15)\n",
    "plt.xlabel('Number of Unique Practice Days', fontsize=12)\n",
    "plt.ylabel('Number of Users', fontsize=12)\n",
    "plt.xticks(range(1, 14))  # Assuming the range is from 1 to 15 days\n",
    "plt.show()\n"
   ]
  },
  {
   "cell_type": "code",
   "execution_count": null,
   "id": "d88422e0",
   "metadata": {},
   "outputs": [],
   "source": [
    "# Count the number of trials per user per day\n",
    "trials_per_user_per_day = en_duolingo.groupby(['user_id', 'date_only']).size().reset_index(name='daily_trials')\n",
    "# Option 1: Average number of daily trials per user\n",
    "avg_trials_per_user = trials_per_user_per_day.groupby('user_id')['daily_trials'].mean()\n",
    "\n",
    "import seaborn as sns\n",
    "import matplotlib.pyplot as plt\n",
    "\n",
    "# Option 1: Plotting average daily trials per user\n",
    "plt.figure(figsize=(10, 6))\n",
    "sns.histplot(avg_trials_per_user, bins=30, kde=False, color='skyblue')\n",
    "plt.title('Average Daily Trials Per User', fontsize=15)\n",
    "plt.xlabel('Average Number of Trials', fontsize=12)\n",
    "plt.ylabel('Number of Users', fontsize=12)\n",
    "plt.show()\n",
    "\n",
    "# Option 2: Plotting the distribution of all daily trials counts\n",
    "plt.figure(figsize=(10, 6))\n",
    "sns.histplot(trials_per_user_per_day['daily_trials'], bins=30, kde=False, color='skyblue')\n",
    "plt.title('Distribution of Daily Trials per User', fontsize=15)\n",
    "plt.xlabel('Number of Daily Trials', fontsize=12)\n",
    "plt.ylabel('Count', fontsize=12)\n",
    "plt.show()\n"
   ]
  },
  {
   "cell_type": "code",
   "execution_count": null,
   "id": "66eb16aa",
   "metadata": {},
   "outputs": [],
   "source": [
    "# Winsorizing at the 99th percentile\n",
    "trials_per_user_per_day['daily_trials_winsorized'] = winsorize(trials_per_user_per_day['daily_trials'], limits=[0, 0.05])\n",
    "plt.figure(figsize=(10, 6))\n",
    "sns.histplot(trials_per_user_per_day['daily_trials_winsorized'], bins=50, kde=False, color='skyblue')\n",
    "plt.title('Winsorized Distribution of Daily Trials per User', fontsize=15)\n",
    "plt.xlabel('Number of Daily Trials (Winsorized)', fontsize=12)\n",
    "plt.ylabel('Count', fontsize=12)\n",
    "plt.show()\n"
   ]
  },
  {
   "cell_type": "code",
   "execution_count": null,
   "id": "ec479ee7",
   "metadata": {},
   "outputs": [],
   "source": [
    "# Count unique sessions per user\n",
    "sessions_per_user = en_duolingo.groupby('user_id')['datetime'].nunique().reset_index(name='session_count')\n",
    "import seaborn as sns\n",
    "import matplotlib.pyplot as plt\n",
    "\n",
    "plt.figure(figsize=(10, 6))\n",
    "sns.histplot(sessions_per_user['session_count'], bins=30, kde=False, color='skyblue')\n",
    "plt.title('Distribution of Number of Sessions per User', fontsize=15)\n",
    "plt.xlabel('Number of Sessions', fontsize=12)\n",
    "plt.ylabel('Number of Users', fontsize=12)\n",
    "plt.show()\n"
   ]
  },
  {
   "cell_type": "code",
   "execution_count": null,
   "id": "565b5796",
   "metadata": {},
   "outputs": [],
   "source": [
    "from scipy.stats.mstats import winsorize\n",
    "\n",
    "# Winsorizing at the 99th percentile\n",
    "sessions_per_user['session_count_winsorized'] = winsorize(sessions_per_user['session_count'], limits=[0, 0.05])\n",
    "import seaborn as sns\n",
    "import matplotlib.pyplot as plt\n",
    "\n",
    "plt.figure(figsize=(10, 6))\n",
    "sns.histplot(sessions_per_user['session_count_winsorized'], bins=30, kde=False, color='skyblue')\n",
    "plt.title('Distribution of Winsorized Sessions per User', fontsize=15)\n",
    "plt.xlabel('Number of Sessions (Winsorized)', fontsize=12)\n",
    "plt.ylabel('Number of Users', fontsize=12)\n",
    "plt.show()\n"
   ]
  },
  {
   "cell_type": "code",
   "execution_count": null,
   "id": "ddaba229",
   "metadata": {},
   "outputs": [],
   "source": [
    "en_duolingo.columns"
   ]
  },
  {
   "cell_type": "markdown",
   "id": "4f84e7cc",
   "metadata": {},
   "source": [
    "# Summary Statistics"
   ]
  },
  {
   "cell_type": "code",
   "execution_count": null,
   "id": "c3f44688",
   "metadata": {},
   "outputs": [],
   "source": [
    "variables = ['p_recall', 't', 'seen', 'right', 'wrong', 'decimal_hours']\n",
    "summary_stats = en_duolingo[variables].describe().round(2)\n",
    "summary_stats"
   ]
  },
  {
   "cell_type": "code",
   "execution_count": null,
   "id": "cad0276d",
   "metadata": {},
   "outputs": [],
   "source": [
    "# sns.regplot(data=en_duolingo, x=\"decimal_hours\", y=\"p_recall\", order = 2)"
   ]
  },
  {
   "cell_type": "code",
   "execution_count": null,
   "id": "f7416e0d",
   "metadata": {},
   "outputs": [],
   "source": [
    "cols_to_order = ['user_id', 'datetime', 'date_only', 'delta', 'lexeme_string']\n",
    "new_columns = cols_to_order + [col for col in en_duolingo.columns if col not in cols_to_order]\n",
    "\n",
    "en_duolingo = en_duolingo[new_columns]"
   ]
  },
  {
   "cell_type": "code",
   "execution_count": null,
   "id": "be2d43dc",
   "metadata": {},
   "outputs": [],
   "source": [
    "# Splitting the 'lexeme_string' column on '/'\n",
    "en_duolingo['word'] = en_duolingo['lexeme_string'].str.split('/').str[0]"
   ]
  },
  {
   "cell_type": "code",
   "execution_count": null,
   "id": "d47f6924",
   "metadata": {},
   "outputs": [],
   "source": [
    "# Sorting the DataFrame by 'user_id' and 'datetime'\n",
    "en_duolingo_sorted = en_duolingo.sort_values(by=['user_id', 'datetime'])"
   ]
  },
  {
   "cell_type": "code",
   "execution_count": null,
   "id": "2895d896",
   "metadata": {},
   "outputs": [],
   "source": [
    "# Assuming your DataFrame is named 'df'\n",
    "en_duolingo.to_csv('en_duolingo.csv', index=False)"
   ]
  },
  {
   "cell_type": "code",
   "execution_count": 4,
   "id": "9f0518cd",
   "metadata": {},
   "outputs": [
    {
     "data": {
      "image/png": "[encoded data removed]",
      "text/plain": [
       "<Figure size 720x432 with 1 Axes>"
      ]
     },
     "metadata": {
      "needs_background": "light"
     },
     "output_type": "display_data"
    },
    {
     "data": {
      "text/html": [
       "<div>\n",
       "<style scoped>\n",
       "    .dataframe tbody tr th:only-of-type {\n",
       "        vertical-align: middle;\n",
       "    }\n",
       "\n",
       "    .dataframe tbody tr th {\n",
       "        vertical-align: top;\n",
       "    }\n",
       "\n",
       "    .dataframe thead th {\n",
       "        text-align: right;\n",
       "    }\n",
       "</style>\n",
       "<table border=\"1\" class=\"dataframe\">\n",
       "  <thead>\n",
       "    <tr style=\"text-align: right;\">\n",
       "      <th></th>\n",
       "      <th>time_steps</th>\n",
       "      <th>mae_10epochs</th>\n",
       "    </tr>\n",
       "  </thead>\n",
       "  <tbody>\n",
       "    <tr>\n",
       "      <th>0</th>\n",
       "      <td>20</td>\n",
       "      <td>0.173602</td>\n",
       "    </tr>\n",
       "    <tr>\n",
       "      <th>1</th>\n",
       "      <td>40</td>\n",
       "      <td>0.161527</td>\n",
       "    </tr>\n",
       "    <tr>\n",
       "      <th>2</th>\n",
       "      <td>60</td>\n",
       "      <td>0.167351</td>\n",
       "    </tr>\n",
       "    <tr>\n",
       "      <th>3</th>\n",
       "      <td>80</td>\n",
       "      <td>0.171625</td>\n",
       "    </tr>\n",
       "    <tr>\n",
       "      <th>4</th>\n",
       "      <td>100</td>\n",
       "      <td>0.168804</td>\n",
       "    </tr>\n",
       "    <tr>\n",
       "      <th>5</th>\n",
       "      <td>120</td>\n",
       "      <td>0.169181</td>\n",
       "    </tr>\n",
       "    <tr>\n",
       "      <th>6</th>\n",
       "      <td>140</td>\n",
       "      <td>0.178286</td>\n",
       "    </tr>\n",
       "  </tbody>\n",
       "</table>\n",
       "</div>"
      ],
      "text/plain": [
       "   time_steps  mae_10epochs\n",
       "0          20      0.173602\n",
       "1          40      0.161527\n",
       "2          60      0.167351\n",
       "3          80      0.171625\n",
       "4         100      0.168804\n",
       "5         120      0.169181\n",
       "6         140      0.178286"
      ]
     },
     "execution_count": 4,
     "metadata": {},
     "output_type": "execute_result"
    }
   ],
   "source": [
    "import pandas as pd\n",
    "import matplotlib.pyplot as plt\n",
    "\n",
    "# Creating a DataFrame from the provided data\n",
    "data = {\n",
    "    'time_steps': [20, 40, 60, 80, 100, 120, 140],\n",
    "    'mae_10epochs': [0.173602, 0.161527, 0.167351, 0.171625, 0.168804, 0.169181, 0.178286]\n",
    "}\n",
    "df = pd.DataFrame(data)\n",
    "\n",
    "# Plotting the data\n",
    "plt.figure(figsize=(10, 6))\n",
    "plt.plot(df['time_steps'], df['mae_10epochs'], marker='o', color='b')\n",
    "plt.title('MAE Evolution Over number of Sessions', fontsize=15)\n",
    "plt.xlabel('Time Steps', fontsize=12)\n",
    "plt.ylabel('MAE (10 Epochs)', fontsize=12)\n",
    "plt.grid(True)\n",
    "plt.tight_layout()\n",
    "\n",
    "# Save the plot as an image\n",
    "plot_filename = 'C:/Users/Alexander/Documents/GitHub/NNLangRecall/figs/mae_evolution_plot.png'\n",
    "plt.savefig(plot_filename)\n",
    "\n",
    "plt.show()\n",
    "\n",
    "# Displaying the DataFrame as a table\n",
    "df\n",
    "\n"
   ]
  },
  {
   "cell_type": "code",
   "execution_count": null,
   "id": "a2022d58",
   "metadata": {},
   "outputs": [],
   "source": []
  }
 ],
 "metadata": {
  "kernelspec": {
   "display_name": "Python 3 (ipykernel)",
   "language": "python",
   "name": "python3"
  },
  "language_info": {
   "codemirror_mode": {
    "name": "ipython",
    "version": 3
   },
   "file_extension": ".py",
   "mimetype": "text/x-python",
   "name": "python",
   "nbconvert_exporter": "python",
   "pygments_lexer": "ipython3",
   "version": "3.8.12"
  }
 },
 "nbformat": 4,
 "nbformat_minor": 5
}
