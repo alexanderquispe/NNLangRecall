{
 "cells": [
  {
   "cell_type": "code",
   "execution_count": 2,
   "id": "2a1c7718-f98c-46c5-abc7-78a7019a7a51",
   "metadata": {
    "tags": []
   },
   "outputs": [],
   "source": [
    "from collections import defaultdict, namedtuple\n",
    "import numpy as np\n",
    "import pandas as pd\n",
    "import math\n",
    "import random"
   ]
  },
  {
   "cell_type": "code",
   "execution_count": 3,
   "id": "8db1555e-63ed-4944-8c01-19780f2769d5",
   "metadata": {
    "tags": []
   },
   "outputs": [],
   "source": [
    "import duolingo_replica as dr\n",
    "import duolingo_original as do"
   ]
  },
  {
   "cell_type": "code",
   "execution_count": 5,
   "id": "2ab99875",
   "metadata": {},
   "outputs": [],
   "source": [
    "%run clean_data_en_lstm\n",
    "%run clean_features"
   ]
  },
  {
   "cell_type": "markdown",
   "id": "a8c0d02e-899c-4a68-add3-e95fe6fd5ceb",
   "metadata": {},
   "source": [
    "We load the data and select a subset of 5000 observations to test the models."
   ]
  },
  {
   "cell_type": "code",
   "execution_count": 6,
   "id": "af61c42e-90c2-4fc6-8177-6265c5e5e20d",
   "metadata": {
    "tags": []
   },
   "outputs": [],
   "source": [
    "# data   = pd.read_csv('https://www.dropbox.com/scl/fi/pnxa2jv4xf23bfwry1q9x/learning_traces.13m.csv?rlkey=2dt9848lutbgyys5sujq8dgw2&dl=1' )\n",
    "\n",
    "file_path = \"C:/Users/Alexander/Dropbox/halflife_regression_rl/0_data/learning_traces.13m.csv\"\n",
    "subset = process_data(file_path, 20)\n",
    "# subset = data.sample( n = 5000, random_state = 5 )\n",
    "# subset = data[data[\"learning_language\"] == \"en\"]\n"
   ]
  },
  {
   "cell_type": "code",
   "execution_count": 7,
   "id": "559301a7",
   "metadata": {},
   "outputs": [
    {
     "data": {
      "text/html": [
       "<div>\n",
       "<style scoped>\n",
       "    .dataframe tbody tr th:only-of-type {\n",
       "        vertical-align: middle;\n",
       "    }\n",
       "\n",
       "    .dataframe tbody tr th {\n",
       "        vertical-align: top;\n",
       "    }\n",
       "\n",
       "    .dataframe thead th {\n",
       "        text-align: right;\n",
       "    }\n",
       "</style>\n",
       "<table border=\"1\" class=\"dataframe\">\n",
       "  <thead>\n",
       "    <tr style=\"text-align: right;\">\n",
       "      <th></th>\n",
       "      <th>p_recall</th>\n",
       "      <th>timestamp</th>\n",
       "      <th>delta</th>\n",
       "      <th>user_id</th>\n",
       "      <th>learning_language</th>\n",
       "      <th>ui_language</th>\n",
       "      <th>lexeme_id</th>\n",
       "      <th>lexeme_string</th>\n",
       "      <th>history_seen</th>\n",
       "      <th>history_correct</th>\n",
       "      <th>session_seen</th>\n",
       "      <th>session_correct</th>\n",
       "      <th>appearance_count</th>\n",
       "    </tr>\n",
       "  </thead>\n",
       "  <tbody>\n",
       "    <tr>\n",
       "      <th>0</th>\n",
       "      <td>1.0</td>\n",
       "      <td>1362082504</td>\n",
       "      <td>357</td>\n",
       "      <td>u:dwbJ</td>\n",
       "      <td>en</td>\n",
       "      <td>pt</td>\n",
       "      <td>1052c3ace653dbc8923eaa183bc02b88</td>\n",
       "      <td>definition/definition&lt;n&gt;&lt;sg&gt;</td>\n",
       "      <td>17</td>\n",
       "      <td>17</td>\n",
       "      <td>2</td>\n",
       "      <td>2</td>\n",
       "      <td>629</td>\n",
       "    </tr>\n",
       "    <tr>\n",
       "      <th>1</th>\n",
       "      <td>1.0</td>\n",
       "      <td>1362082504</td>\n",
       "      <td>357</td>\n",
       "      <td>u:dwbJ</td>\n",
       "      <td>en</td>\n",
       "      <td>pt</td>\n",
       "      <td>9cba1b30f88bf3c047b22cffcaf88c12</td>\n",
       "      <td>surface/surface&lt;n&gt;&lt;sg&gt;</td>\n",
       "      <td>19</td>\n",
       "      <td>19</td>\n",
       "      <td>3</td>\n",
       "      <td>3</td>\n",
       "      <td>629</td>\n",
       "    </tr>\n",
       "    <tr>\n",
       "      <th>2</th>\n",
       "      <td>1.0</td>\n",
       "      <td>1362082504</td>\n",
       "      <td>357</td>\n",
       "      <td>u:dwbJ</td>\n",
       "      <td>en</td>\n",
       "      <td>pt</td>\n",
       "      <td>961cd149f20f2571419b1412d849f19a</td>\n",
       "      <td>scale/scale&lt;n&gt;&lt;sg&gt;</td>\n",
       "      <td>21</td>\n",
       "      <td>20</td>\n",
       "      <td>3</td>\n",
       "      <td>3</td>\n",
       "      <td>629</td>\n",
       "    </tr>\n",
       "    <tr>\n",
       "      <th>3</th>\n",
       "      <td>0.8</td>\n",
       "      <td>1362082504</td>\n",
       "      <td>357</td>\n",
       "      <td>u:dwbJ</td>\n",
       "      <td>en</td>\n",
       "      <td>pt</td>\n",
       "      <td>5cbb1249562e95794a4c4ae0e2d8ae26</td>\n",
       "      <td>temperature/temperature&lt;n&gt;&lt;sg&gt;</td>\n",
       "      <td>44</td>\n",
       "      <td>36</td>\n",
       "      <td>5</td>\n",
       "      <td>4</td>\n",
       "      <td>629</td>\n",
       "    </tr>\n",
       "    <tr>\n",
       "      <th>4</th>\n",
       "      <td>1.0</td>\n",
       "      <td>1362082504</td>\n",
       "      <td>357</td>\n",
       "      <td>u:dwbJ</td>\n",
       "      <td>en</td>\n",
       "      <td>pt</td>\n",
       "      <td>2df65bdf80d10d2b78d62cb2e0a731d8</td>\n",
       "      <td>distance/distance&lt;n&gt;&lt;sg&gt;</td>\n",
       "      <td>21</td>\n",
       "      <td>20</td>\n",
       "      <td>3</td>\n",
       "      <td>3</td>\n",
       "      <td>629</td>\n",
       "    </tr>\n",
       "    <tr>\n",
       "      <th>...</th>\n",
       "      <td>...</td>\n",
       "      <td>...</td>\n",
       "      <td>...</td>\n",
       "      <td>...</td>\n",
       "      <td>...</td>\n",
       "      <td>...</td>\n",
       "      <td>...</td>\n",
       "      <td>...</td>\n",
       "      <td>...</td>\n",
       "      <td>...</td>\n",
       "      <td>...</td>\n",
       "      <td>...</td>\n",
       "      <td>...</td>\n",
       "    </tr>\n",
       "    <tr>\n",
       "      <th>569115</th>\n",
       "      <td>1.0</td>\n",
       "      <td>1363104881</td>\n",
       "      <td>4294673</td>\n",
       "      <td>u:f_W4</td>\n",
       "      <td>en</td>\n",
       "      <td>pt</td>\n",
       "      <td>c032182c0ffb744c963ec83c937a26f4</td>\n",
       "      <td>us/prpers&lt;prn&gt;&lt;obj&gt;&lt;p1&gt;&lt;mf&gt;&lt;pl&gt;</td>\n",
       "      <td>10</td>\n",
       "      <td>9</td>\n",
       "      <td>1</td>\n",
       "      <td>1</td>\n",
       "      <td>35</td>\n",
       "    </tr>\n",
       "    <tr>\n",
       "      <th>569116</th>\n",
       "      <td>1.0</td>\n",
       "      <td>1363104881</td>\n",
       "      <td>4666611</td>\n",
       "      <td>u:f_W4</td>\n",
       "      <td>en</td>\n",
       "      <td>pt</td>\n",
       "      <td>80765ae2a08ba6812a4ab9df607b97d2</td>\n",
       "      <td>am/be&lt;vbser&gt;&lt;pri&gt;&lt;p1&gt;&lt;sg&gt;</td>\n",
       "      <td>21</td>\n",
       "      <td>19</td>\n",
       "      <td>1</td>\n",
       "      <td>1</td>\n",
       "      <td>35</td>\n",
       "    </tr>\n",
       "    <tr>\n",
       "      <th>569117</th>\n",
       "      <td>0.5</td>\n",
       "      <td>1363104881</td>\n",
       "      <td>3543733</td>\n",
       "      <td>u:f_W4</td>\n",
       "      <td>en</td>\n",
       "      <td>pt</td>\n",
       "      <td>6d4c572af8022cb4784ce0f8898d1905</td>\n",
       "      <td>to/to&lt;pr&gt;</td>\n",
       "      <td>4</td>\n",
       "      <td>4</td>\n",
       "      <td>2</td>\n",
       "      <td>1</td>\n",
       "      <td>35</td>\n",
       "    </tr>\n",
       "    <tr>\n",
       "      <th>569118</th>\n",
       "      <td>1.0</td>\n",
       "      <td>1363104881</td>\n",
       "      <td>3610474</td>\n",
       "      <td>u:f_W4</td>\n",
       "      <td>en</td>\n",
       "      <td>pt</td>\n",
       "      <td>c9fb923e49d5cba24b5afb9ee1cff2a9</td>\n",
       "      <td>wine/wine&lt;n&gt;&lt;sg&gt;</td>\n",
       "      <td>21</td>\n",
       "      <td>18</td>\n",
       "      <td>1</td>\n",
       "      <td>1</td>\n",
       "      <td>35</td>\n",
       "    </tr>\n",
       "    <tr>\n",
       "      <th>569119</th>\n",
       "      <td>0.0</td>\n",
       "      <td>1363104881</td>\n",
       "      <td>4294673</td>\n",
       "      <td>u:f_W4</td>\n",
       "      <td>en</td>\n",
       "      <td>pt</td>\n",
       "      <td>0a7ad985b6b19b5cfb4723f207220a3d</td>\n",
       "      <td>they/prpers&lt;prn&gt;&lt;subj&gt;&lt;p3&gt;&lt;mf&gt;&lt;pl&gt;</td>\n",
       "      <td>24</td>\n",
       "      <td>22</td>\n",
       "      <td>1</td>\n",
       "      <td>0</td>\n",
       "      <td>35</td>\n",
       "    </tr>\n",
       "  </tbody>\n",
       "</table>\n",
       "<p>569120 rows × 13 columns</p>\n",
       "</div>"
      ],
      "text/plain": [
       "        p_recall   timestamp    delta user_id learning_language ui_language  \\\n",
       "0            1.0  1362082504      357  u:dwbJ                en          pt   \n",
       "1            1.0  1362082504      357  u:dwbJ                en          pt   \n",
       "2            1.0  1362082504      357  u:dwbJ                en          pt   \n",
       "3            0.8  1362082504      357  u:dwbJ                en          pt   \n",
       "4            1.0  1362082504      357  u:dwbJ                en          pt   \n",
       "...          ...         ...      ...     ...               ...         ...   \n",
       "569115       1.0  1363104881  4294673  u:f_W4                en          pt   \n",
       "569116       1.0  1363104881  4666611  u:f_W4                en          pt   \n",
       "569117       0.5  1363104881  3543733  u:f_W4                en          pt   \n",
       "569118       1.0  1363104881  3610474  u:f_W4                en          pt   \n",
       "569119       0.0  1363104881  4294673  u:f_W4                en          pt   \n",
       "\n",
       "                               lexeme_id                       lexeme_string  \\\n",
       "0       1052c3ace653dbc8923eaa183bc02b88        definition/definition<n><sg>   \n",
       "1       9cba1b30f88bf3c047b22cffcaf88c12              surface/surface<n><sg>   \n",
       "2       961cd149f20f2571419b1412d849f19a                  scale/scale<n><sg>   \n",
       "3       5cbb1249562e95794a4c4ae0e2d8ae26      temperature/temperature<n><sg>   \n",
       "4       2df65bdf80d10d2b78d62cb2e0a731d8            distance/distance<n><sg>   \n",
       "...                                  ...                                 ...   \n",
       "569115  c032182c0ffb744c963ec83c937a26f4     us/prpers<prn><obj><p1><mf><pl>   \n",
       "569116  80765ae2a08ba6812a4ab9df607b97d2           am/be<vbser><pri><p1><sg>   \n",
       "569117  6d4c572af8022cb4784ce0f8898d1905                           to/to<pr>   \n",
       "569118  c9fb923e49d5cba24b5afb9ee1cff2a9                    wine/wine<n><sg>   \n",
       "569119  0a7ad985b6b19b5cfb4723f207220a3d  they/prpers<prn><subj><p3><mf><pl>   \n",
       "\n",
       "        history_seen  history_correct  session_seen  session_correct  \\\n",
       "0                 17               17             2                2   \n",
       "1                 19               19             3                3   \n",
       "2                 21               20             3                3   \n",
       "3                 44               36             5                4   \n",
       "4                 21               20             3                3   \n",
       "...              ...              ...           ...              ...   \n",
       "569115            10                9             1                1   \n",
       "569116            21               19             1                1   \n",
       "569117             4                4             2                1   \n",
       "569118            21               18             1                1   \n",
       "569119            24               22             1                0   \n",
       "\n",
       "        appearance_count  \n",
       "0                    629  \n",
       "1                    629  \n",
       "2                    629  \n",
       "3                    629  \n",
       "4                    629  \n",
       "...                  ...  \n",
       "569115                35  \n",
       "569116                35  \n",
       "569117                35  \n",
       "569118                35  \n",
       "569119                35  \n",
       "\n",
       "[569120 rows x 13 columns]"
      ]
     },
     "execution_count": 7,
     "metadata": {},
     "output_type": "execute_result"
    }
   ],
   "source": [
    "# subset = data[data[\"learning_language\"] == \"en\"]\n",
    "subset"
   ]
  },
  {
   "cell_type": "markdown",
   "id": "6566fc0e-c83b-4883-9d35-6d75c9b25e2c",
   "metadata": {},
   "source": [
    "# 1. LOGIT"
   ]
  },
  {
   "cell_type": "markdown",
   "id": "d8efdb2c-3b58-4e09-b06a-15d8ec8da9d6",
   "metadata": {},
   "source": [
    "## 1.1. Replication"
   ]
  },
  {
   "cell_type": "markdown",
   "id": "8f231e91-dac0-4d03-ba32-a854228303eb",
   "metadata": {},
   "source": [
    "We perform the train-test split and, in addition, obtain the list of predictor variables. The predictor variables include: 'right,' 'wrong,' 'bias,', 'time' and dummy variables for lexemes."
   ]
  },
  {
   "cell_type": "code",
   "execution_count": 8,
   "id": "92dad457-7e7d-4f94-94c7-366694435a68",
   "metadata": {
    "tags": []
   },
   "outputs": [],
   "source": [
    "trainset, testset, feature_vars = dr.read_data( subset, method = 'lr', omit_lexemes = False )"
   ]
  },
  {
   "cell_type": "markdown",
   "id": "f153c9ad-29e5-4c3d-bb32-e4ecc1bcf663",
   "metadata": {
    "tags": []
   },
   "source": [
    "We define and fit a Logistic Regression Model for the replication code"
   ]
  },
  {
   "cell_type": "code",
   "execution_count": 9,
   "id": "ddc966a4-157f-48ff-8aab-de89b81944f6",
   "metadata": {
    "tags": []
   },
   "outputs": [
    {
     "name": "stdout",
     "output_type": "stream",
     "text": [
      "Wall time: 3h 49min 49s\n"
     ]
    }
   ],
   "source": [
    "%%time\n",
    "\n",
    "model_1 = dr.logit_model( feature_columns = feature_vars )\n",
    "model_1.train( trainset )"
   ]
  },
  {
   "cell_type": "markdown",
   "id": "2b41f8d8-6635-453e-b7e3-d8caa827d930",
   "metadata": {},
   "source": [
    "We evaluate the model with the test set and obtain results. The h_seed allows replicating the values of h_hat, which are random for logistic regression"
   ]
  },
  {
   "cell_type": "code",
   "execution_count": null,
   "id": "e694b6fb-0fad-48a5-8498-c7aa6c2fbe90",
   "metadata": {
    "tags": []
   },
   "outputs": [],
   "source": [
    "model_1.test_model( testset, h_seed = 5 )"
   ]
  },
  {
   "cell_type": "markdown",
   "id": "00488f9b-1f63-4ae9-9411-6488f488175e",
   "metadata": {},
   "source": [
    "We export theta values for the Logit replication model"
   ]
  },
  {
   "cell_type": "code",
   "execution_count": null,
   "id": "131996ca-2143-42b4-b53a-0b4ea4f5b66c",
   "metadata": {
    "tags": []
   },
   "outputs": [],
   "source": [
    "model_1.dump_theta( 'logit_replication_thetas.txt' )"
   ]
  },
  {
   "cell_type": "markdown",
   "id": "d4ce5cc9-3555-4e21-a0bd-bfc9ee453078",
   "metadata": {},
   "source": [
    "## 1.2. Original code"
   ]
  },
  {
   "cell_type": "markdown",
   "id": "49736a75-4cff-44e1-bdce-368336232d60",
   "metadata": {},
   "source": [
    "We perform the train-test split and, in addition, obtain the list of predictor variables. The predictor variables include: 'right,' 'wrong,' 'bias,' and dummy variables for lexemes."
   ]
  },
  {
   "cell_type": "code",
   "execution_count": null,
   "id": "625bac9c-66b2-4782-a529-7c61a198f453",
   "metadata": {
    "tags": []
   },
   "outputs": [],
   "source": [
    "trainset2, testset2 = do.read_data( subset, method = 'lr' )"
   ]
  },
  {
   "cell_type": "markdown",
   "id": "33da8e00-0547-48f2-821c-0da5a80bf443",
   "metadata": {},
   "source": [
    "We define and fit a Logistic Regression Model for the original code"
   ]
  },
  {
   "cell_type": "code",
   "execution_count": null,
   "id": "7f7c2b36-375e-406b-9432-a6a5d0713e3e",
   "metadata": {
    "tags": []
   },
   "outputs": [],
   "source": [
    "%%time\n",
    "\n",
    "model_2 = do.SpacedRepetitionModel( method = 'lr' )\n",
    "model_2.train( trainset2 )"
   ]
  },
  {
   "cell_type": "markdown",
   "id": "1d4ddf7e-9dbb-4777-9d5b-0b3419c1c78b",
   "metadata": {},
   "source": [
    "We evaluate the model with the test set and obtain results. The first value on the right corresponds to the metric 'Total Loss.' The other metrics are named accordingly. The metrics are almost exactly the same as in the replication code."
   ]
  },
  {
   "cell_type": "code",
   "execution_count": null,
   "id": "219ccc38-c421-47ec-9b82-983efb029307",
   "metadata": {
    "tags": []
   },
   "outputs": [],
   "source": [
    "model_2.eval( testset2, h_seed = 5 )"
   ]
  },
  {
   "cell_type": "markdown",
   "id": "7051a7d4-49a6-4657-8061-ba0e12ca8dc7",
   "metadata": {},
   "source": [
    "We export theta values for the Logit original model. Thetas are almost exactly the same as in the replication code."
   ]
  },
  {
   "cell_type": "code",
   "execution_count": null,
   "id": "64995564-049a-41a1-aac8-877b4ec652f8",
   "metadata": {
    "tags": []
   },
   "outputs": [],
   "source": [
    "model_2.dump_weights( 'logit_original_thetas.txt' )"
   ]
  },
  {
   "cell_type": "markdown",
   "id": "60a4d608-8bdf-4360-b316-6724ea81e986",
   "metadata": {},
   "source": [
    "# 2. HLR Model"
   ]
  },
  {
   "cell_type": "markdown",
   "id": "c6085c7e-6ee6-460b-a8f1-5c329134ff70",
   "metadata": {},
   "source": [
    "## 2.1. Replication"
   ]
  },
  {
   "cell_type": "markdown",
   "id": "8cf86e57-8db8-4b8b-aaec-7ee2b5609667",
   "metadata": {},
   "source": [
    "We perform the train-test split and, in addition, obtain the list of predictor variables. The predictor variables include: 'right,' 'wrong,' 'bias,' and dummy variables for lexemes. Unlike Model 1, in this case, the variable 'time' is not included as a predictor."
   ]
  },
  {
   "cell_type": "code",
   "execution_count": null,
   "id": "f53dd9b3-34ca-43b7-8b1b-37d94c90e48b",
   "metadata": {
    "tags": []
   },
   "outputs": [],
   "source": [
    "trainset3, testset3, feature_vars3 = dr.read_data( subset, method = 'hlr', omit_lexemes = False )"
   ]
  },
  {
   "cell_type": "markdown",
   "id": "ca7e2f2a-18ff-4953-8df3-9727184ec084",
   "metadata": {},
   "source": [
    "We train the HLR replication model"
   ]
  },
  {
   "cell_type": "code",
   "execution_count": null,
   "id": "9fc41b2d-3c4f-419a-a42e-2c491aa55cf7",
   "metadata": {
    "tags": []
   },
   "outputs": [],
   "source": [
    "%%time\n",
    "\n",
    "model_3 = dr.HLR_model( feature_columns = feature_vars3, omit_h_term = True )\n",
    "model_3.train( trainset3 )"
   ]
  },
  {
   "cell_type": "markdown",
   "id": "a9c613e3-eeb3-43eb-a40b-51229e28cd5d",
   "metadata": {},
   "source": [
    "We evaluate the model with the test set and obtain results"
   ]
  },
  {
   "cell_type": "code",
   "execution_count": null,
   "id": "c820da51-1ccd-4075-baab-aa4f65a09603",
   "metadata": {
    "tags": []
   },
   "outputs": [],
   "source": [
    "model_3.test_model( testset3 )"
   ]
  },
  {
   "cell_type": "markdown",
   "id": "07fb47bf-11e2-48d9-a604-cea21a40478a",
   "metadata": {},
   "source": [
    "We export theta values for the Logit replication model"
   ]
  },
  {
   "cell_type": "code",
   "execution_count": null,
   "id": "87205adb-86bb-438f-b637-e7c82fab4fc5",
   "metadata": {
    "tags": []
   },
   "outputs": [],
   "source": [
    "model_3.dump_theta( 'hlr_replication_thetas.txt' )"
   ]
  },
  {
   "cell_type": "markdown",
   "id": "0943a960-0978-4944-9ed7-a9249263282f",
   "metadata": {},
   "source": [
    "## 2.2. Original"
   ]
  },
  {
   "cell_type": "markdown",
   "id": "1897f74f-594a-4d6b-a5fe-6c6aae84cc36",
   "metadata": {},
   "source": [
    "We perform the train-test split and, in addition, obtain the list of predictor variables. The predictor variables include: 'right,' 'wrong,' 'bias,' and dummy variables for lexemes. Unlike Model 3, in this case, the variable 'time' is not included as a predictor."
   ]
  },
  {
   "cell_type": "code",
   "execution_count": null,
   "id": "e81c26d9-b135-4acd-bdac-210b92797878",
   "metadata": {
    "tags": []
   },
   "outputs": [],
   "source": [
    "trainset2, testset2 = do.read_data( subset, method = 'hlr' )"
   ]
  },
  {
   "cell_type": "markdown",
   "id": "f6cc0e82-34db-40c3-9ee8-9e58a3232288",
   "metadata": {},
   "source": [
    "We fit the HLR original model. We omit h_term."
   ]
  },
  {
   "cell_type": "code",
   "execution_count": null,
   "id": "27a1367a-1388-497e-8aa1-f26cb66a03d4",
   "metadata": {
    "tags": []
   },
   "outputs": [],
   "source": [
    "%%time\n",
    "\n",
    "model_4 = do.SpacedRepetitionModel( method = 'hlr', omit_h_term = True )\n",
    "model_4.train( trainset2 )"
   ]
  },
  {
   "cell_type": "markdown",
   "id": "450dfeda-1fd6-4d9e-bb95-831a58bd6097",
   "metadata": {},
   "source": [
    "We evaluate the model with the test set and obtain results. The first value on the right corresponds to the metric 'Total Loss.' The other metrics are named accordingly. The metrics are almost exactly the same as in the replication code."
   ]
  },
  {
   "cell_type": "code",
   "execution_count": null,
   "id": "614472e3-811b-4dee-a9d1-829472b29588",
   "metadata": {
    "tags": []
   },
   "outputs": [],
   "source": [
    "model_4.eval( testset2, h_seed = 5 )"
   ]
  },
  {
   "cell_type": "markdown",
   "id": "9b7c2c9c-c452-4df6-891a-d69b2311decc",
   "metadata": {},
   "source": [
    "We export theta values for the HLR original model. Thetas are almost exactly the same as in the replication code."
   ]
  },
  {
   "cell_type": "code",
   "execution_count": null,
   "id": "1a779d84-4f26-4ac1-b018-01e6a3710668",
   "metadata": {
    "tags": []
   },
   "outputs": [],
   "source": [
    "model_4.dump_weights( 'hlr_original_thetas.txt' )"
   ]
  }
 ],
 "metadata": {
  "kernelspec": {
   "display_name": "Python 3 (ipykernel)",
   "language": "python",
   "name": "python3"
  },
  "language_info": {
   "codemirror_mode": {
    "name": "ipython",
    "version": 3
   },
   "file_extension": ".py",
   "mimetype": "text/x-python",
   "name": "python",
   "nbconvert_exporter": "python",
   "pygments_lexer": "ipython3",
   "version": "3.8.12"
  }
 },
 "nbformat": 4,
 "nbformat_minor": 5
}
